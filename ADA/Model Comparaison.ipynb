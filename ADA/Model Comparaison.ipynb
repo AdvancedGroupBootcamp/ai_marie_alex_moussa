{
 "cells": [
  {
   "cell_type": "markdown",
   "metadata": {},
   "source": [
    "## Package required"
   ]
  },
  {
   "cell_type": "code",
   "execution_count": 1,
   "metadata": {},
   "outputs": [],
   "source": [
    "import pandas as pd\n",
    "import matplotlib.pyplot as plt\n",
    "import seaborn as sns"
   ]
  },
  {
   "cell_type": "code",
   "execution_count": 61,
   "metadata": {},
   "outputs": [],
   "source": [
    "X_train=pd.read_table(\"./ADA/ada_test.data\",delim_whitespace=True,header=None)\n",
    "X_valid=pd.read_table(\"./ADA/ada_valid.data\",delim_whitespace=True,header=None)\n",
    "X_test=pd.read_table(\"./ADA/ada_test.data\",delim_whitespace=True,header=None)\n",
    "\n",
    "\n",
    "y_train=pd.read_table(\"./ADA/ada_train.labels\",delim_whitespace=True,header=None)\n",
    "y_valid=pd.read_table(\"./ADA/ada_valid.labels\",delim_whitespace=True,header=None)\n",
    "\n",
    "\n",
    "Column_train={\"X\"+str(i):X_train.iloc[:,i-1] for i in range(1,X_train.shape[1]+1)}\n",
    "Column_valid={\"X\"+str(i):X_valid.iloc[:,i-1] for i in range(1,X_valid.shape[1]+1)}\n",
    "Column_test={\"X\"+str(i):X_test.iloc[:,i-1] for i in range(1,X_test.shape[1]+1)}\n"
   ]
  },
  {
   "cell_type": "code",
   "execution_count": 63,
   "metadata": {},
   "outputs": [],
   "source": [
    "ada_train_data=pd.DataFrame(Column_train)\n",
    "ada_valid_data=pd.DataFrame(Column_valid)\n",
    "ada_test_data=pd.DataFrame(Column_test)\n",
    "\n",
    "ada_train_label=pd.DataFrame({\"target\":y_train.iloc[:,0]})\n",
    "ada_train_label=pd.DataFrame({\"target\":y_valid.iloc[:,0]})"
   ]
  },
  {
   "cell_type": "code",
   "execution_count": 68,
   "metadata": {},
   "outputs": [
    {
     "data": {
      "text/plain": [
       "(0, 0, 0)"
      ]
     },
     "execution_count": 68,
     "metadata": {},
     "output_type": "execute_result"
    }
   ],
   "source": [
    "### Check for NaN\n",
    "\n",
    "ada_train_data.isna().any().sum(),ada_valid_data.isna().any().sum(),ada_test_data.isna().any().sum()"
   ]
  },
  {
   "cell_type": "markdown",
   "metadata": {},
   "source": [
    "There are no NaN values in our data"
   ]
  },
  {
   "cell_type": "markdown",
   "metadata": {},
   "source": []
  }
 ],
 "metadata": {
  "kernelspec": {
   "display_name": "Python 3.9.14 64-bit ('3.9.14')",
   "language": "python",
   "name": "python3"
  },
  "language_info": {
   "codemirror_mode": {
    "name": "ipython",
    "version": 3
   },
   "file_extension": ".py",
   "mimetype": "text/x-python",
   "name": "python",
   "nbconvert_exporter": "python",
   "pygments_lexer": "ipython3",
   "version": "3.9.14"
  },
  "orig_nbformat": 4,
  "vscode": {
   "interpreter": {
    "hash": "9b51932b85eb61d61256980453aff19f4b3fb51a4f18cfee8210c742a88c8ee3"
   }
  }
 },
 "nbformat": 4,
 "nbformat_minor": 2
}
