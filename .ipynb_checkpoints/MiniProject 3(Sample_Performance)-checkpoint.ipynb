{
 "cells": [
  {
   "cell_type": "code",
   "execution_count": 772,
   "id": "d9c663cd",
   "metadata": {},
   "outputs": [],
   "source": [
    "import warnings\n",
    "\n",
    "warnings.filterwarnings('ignore')"
   ]
  },
  {
   "cell_type": "code",
   "execution_count": 773,
   "id": "33b20677",
   "metadata": {},
   "outputs": [],
   "source": [
    "# Useful packages\n",
    "\n",
    "import pandas as pd\n",
    "import seaborn as sns\n",
    "import matplotlib.pyplot as plt\n",
    "import numpy as np\n",
    "from random import seed\n",
    "\n",
    "seed(0)"
   ]
  },
  {
   "cell_type": "code",
   "execution_count": 774,
   "id": "8a4cc875",
   "metadata": {},
   "outputs": [],
   "source": [
    "# Data loading\n",
    "\n",
    "train_titanic=pd.read_csv(\"train.csv\")\n",
    "\n",
    "test_titanic=pd.read_csv(\"test.csv\")"
   ]
  },
  {
   "cell_type": "code",
   "execution_count": 775,
   "id": "d2e9ef02",
   "metadata": {},
   "outputs": [
    {
     "data": {
      "text/html": [
       "<div>\n",
       "<style scoped>\n",
       "    .dataframe tbody tr th:only-of-type {\n",
       "        vertical-align: middle;\n",
       "    }\n",
       "\n",
       "    .dataframe tbody tr th {\n",
       "        vertical-align: top;\n",
       "    }\n",
       "\n",
       "    .dataframe thead th {\n",
       "        text-align: right;\n",
       "    }\n",
       "</style>\n",
       "<table border=\"1\" class=\"dataframe\">\n",
       "  <thead>\n",
       "    <tr style=\"text-align: right;\">\n",
       "      <th></th>\n",
       "      <th>PassengerId</th>\n",
       "      <th>Survived</th>\n",
       "      <th>Pclass</th>\n",
       "      <th>Name</th>\n",
       "      <th>Sex</th>\n",
       "      <th>Age</th>\n",
       "      <th>SibSp</th>\n",
       "      <th>Parch</th>\n",
       "      <th>Ticket</th>\n",
       "      <th>Fare</th>\n",
       "      <th>Cabin</th>\n",
       "      <th>Embarked</th>\n",
       "    </tr>\n",
       "  </thead>\n",
       "  <tbody>\n",
       "    <tr>\n",
       "      <th>0</th>\n",
       "      <td>1</td>\n",
       "      <td>0</td>\n",
       "      <td>3</td>\n",
       "      <td>Braund, Mr. Owen Harris</td>\n",
       "      <td>male</td>\n",
       "      <td>22.0</td>\n",
       "      <td>1</td>\n",
       "      <td>0</td>\n",
       "      <td>A/5 21171</td>\n",
       "      <td>7.2500</td>\n",
       "      <td>NaN</td>\n",
       "      <td>S</td>\n",
       "    </tr>\n",
       "    <tr>\n",
       "      <th>1</th>\n",
       "      <td>2</td>\n",
       "      <td>1</td>\n",
       "      <td>1</td>\n",
       "      <td>Cumings, Mrs. John Bradley (Florence Briggs Th...</td>\n",
       "      <td>female</td>\n",
       "      <td>38.0</td>\n",
       "      <td>1</td>\n",
       "      <td>0</td>\n",
       "      <td>PC 17599</td>\n",
       "      <td>71.2833</td>\n",
       "      <td>C85</td>\n",
       "      <td>C</td>\n",
       "    </tr>\n",
       "  </tbody>\n",
       "</table>\n",
       "</div>"
      ],
      "text/plain": [
       "   PassengerId  Survived  Pclass  \\\n",
       "0            1         0       3   \n",
       "1            2         1       1   \n",
       "\n",
       "                                                Name     Sex   Age  SibSp  \\\n",
       "0                            Braund, Mr. Owen Harris    male  22.0      1   \n",
       "1  Cumings, Mrs. John Bradley (Florence Briggs Th...  female  38.0      1   \n",
       "\n",
       "   Parch     Ticket     Fare Cabin Embarked  \n",
       "0      0  A/5 21171   7.2500   NaN        S  \n",
       "1      0   PC 17599  71.2833   C85        C  "
      ]
     },
     "execution_count": 775,
     "metadata": {},
     "output_type": "execute_result"
    }
   ],
   "source": [
    "train_titanic.head(2)"
   ]
  },
  {
   "cell_type": "code",
   "execution_count": 776,
   "id": "4fa284b3",
   "metadata": {},
   "outputs": [
    {
     "name": "stdout",
     "output_type": "stream",
     "text": [
      "<class 'pandas.core.frame.DataFrame'>\n",
      "RangeIndex: 891 entries, 0 to 890\n",
      "Data columns (total 12 columns):\n",
      " #   Column       Non-Null Count  Dtype  \n",
      "---  ------       --------------  -----  \n",
      " 0   PassengerId  891 non-null    int64  \n",
      " 1   Survived     891 non-null    int64  \n",
      " 2   Pclass       891 non-null    int64  \n",
      " 3   Name         891 non-null    object \n",
      " 4   Sex          891 non-null    object \n",
      " 5   Age          714 non-null    float64\n",
      " 6   SibSp        891 non-null    int64  \n",
      " 7   Parch        891 non-null    int64  \n",
      " 8   Ticket       891 non-null    object \n",
      " 9   Fare         891 non-null    float64\n",
      " 10  Cabin        204 non-null    object \n",
      " 11  Embarked     889 non-null    object \n",
      "dtypes: float64(2), int64(5), object(5)\n",
      "memory usage: 83.7+ KB\n"
     ]
    }
   ],
   "source": [
    "train_titanic.info()"
   ]
  },
  {
   "cell_type": "code",
   "execution_count": 777,
   "id": "ee1070ae",
   "metadata": {},
   "outputs": [
    {
     "name": "stdout",
     "output_type": "stream",
     "text": [
      "<class 'pandas.core.frame.DataFrame'>\n",
      "RangeIndex: 418 entries, 0 to 417\n",
      "Data columns (total 11 columns):\n",
      " #   Column       Non-Null Count  Dtype  \n",
      "---  ------       --------------  -----  \n",
      " 0   PassengerId  418 non-null    int64  \n",
      " 1   Pclass       418 non-null    int64  \n",
      " 2   Name         418 non-null    object \n",
      " 3   Sex          418 non-null    object \n",
      " 4   Age          332 non-null    float64\n",
      " 5   SibSp        418 non-null    int64  \n",
      " 6   Parch        418 non-null    int64  \n",
      " 7   Ticket       418 non-null    object \n",
      " 8   Fare         417 non-null    float64\n",
      " 9   Cabin        91 non-null     object \n",
      " 10  Embarked     418 non-null    object \n",
      "dtypes: float64(2), int64(4), object(5)\n",
      "memory usage: 36.0+ KB\n"
     ]
    }
   ],
   "source": [
    "test_titanic.info()"
   ]
  },
  {
   "cell_type": "markdown",
   "id": "6f58fa5f",
   "metadata": {},
   "source": [
    "## Data description"
   ]
  },
  {
   "cell_type": "markdown",
   "id": "a93738b0",
   "metadata": {},
   "source": [
    "We have eleven variables:\n",
    "\n",
    "    - PassengerId: Primary key that are unique for each passenger\n",
    "    - Survived: feature that gives information about the status of a passenger after accident,\n",
    "    (0/1)-(Died/Survived)\n",
    "    - Pclass: The class that the passager was embarked\n",
    "    - Name: Name of the passenger\n",
    "    - Sex: gender of the passenger\n",
    "    - Age : Age of passenger\n",
    "    - SibSp: Number of siblings/spouse on board of titanic\n",
    "    - Parch: Number of parent/children on board of titanic\n",
    "    - Ticket: Ticket number\n",
    "    - Fare: Price of passenger's ticket \n",
    "    - Cabin: Cabin number\n",
    "    - Embarked: Port of embarkation"
   ]
  },
  {
   "cell_type": "code",
   "execution_count": 778,
   "id": "d4681c22",
   "metadata": {},
   "outputs": [],
   "source": [
    "train_titanic=pd.read_csv(\"train_processed.csv\")\n",
    "test_titanic=pd.read_csv(\"test_processed.csv\")"
   ]
  },
  {
   "cell_type": "markdown",
   "id": "db1dcb64",
   "metadata": {},
   "source": [
    "### Encodage des variables"
   ]
  },
  {
   "cell_type": "code",
   "execution_count": 779,
   "id": "fe3e3fa4",
   "metadata": {},
   "outputs": [],
   "source": [
    "#Train data\n",
    "\n",
    "train_titanic['Pclass']=train_titanic['Pclass'].astype('category')\n",
    "\n",
    "# Test data\n",
    "\n",
    "test_titanic['Pclass']=test_titanic['Pclass'].astype('category')"
   ]
  },
  {
   "cell_type": "code",
   "execution_count": 780,
   "id": "602ffb07",
   "metadata": {},
   "outputs": [],
   "source": [
    "\n",
    "train_titanic['Cabin_new']=train_titanic['Cabin_new'].apply(lambda x:str(x).strip()[0])\n",
    "\n",
    "test_titanic['Cabin_new']=test_titanic['Cabin_new'].apply(lambda x:str(x).strip()[0])"
   ]
  },
  {
   "cell_type": "code",
   "execution_count": 781,
   "id": "0f5195d8",
   "metadata": {},
   "outputs": [
    {
     "data": {
      "text/html": [
       "<div>\n",
       "<style scoped>\n",
       "    .dataframe tbody tr th:only-of-type {\n",
       "        vertical-align: middle;\n",
       "    }\n",
       "\n",
       "    .dataframe tbody tr th {\n",
       "        vertical-align: top;\n",
       "    }\n",
       "\n",
       "    .dataframe thead th {\n",
       "        text-align: right;\n",
       "    }\n",
       "</style>\n",
       "<table border=\"1\" class=\"dataframe\">\n",
       "  <thead>\n",
       "    <tr style=\"text-align: right;\">\n",
       "      <th></th>\n",
       "      <th>Survived</th>\n",
       "      <th>Pclass</th>\n",
       "      <th>Sex</th>\n",
       "      <th>Age</th>\n",
       "      <th>SibSp</th>\n",
       "      <th>Parch</th>\n",
       "      <th>Fare</th>\n",
       "      <th>Embarked</th>\n",
       "      <th>Cabin_new</th>\n",
       "    </tr>\n",
       "  </thead>\n",
       "  <tbody>\n",
       "    <tr>\n",
       "      <th>23</th>\n",
       "      <td>1</td>\n",
       "      <td>1</td>\n",
       "      <td>male</td>\n",
       "      <td>28.0</td>\n",
       "      <td>0</td>\n",
       "      <td>0</td>\n",
       "      <td>35</td>\n",
       "      <td>S</td>\n",
       "      <td>A</td>\n",
       "    </tr>\n",
       "    <tr>\n",
       "      <th>55</th>\n",
       "      <td>1</td>\n",
       "      <td>1</td>\n",
       "      <td>male</td>\n",
       "      <td>65.0</td>\n",
       "      <td>0</td>\n",
       "      <td>0</td>\n",
       "      <td>35</td>\n",
       "      <td>S</td>\n",
       "      <td>C</td>\n",
       "    </tr>\n",
       "    <tr>\n",
       "      <th>339</th>\n",
       "      <td>0</td>\n",
       "      <td>1</td>\n",
       "      <td>male</td>\n",
       "      <td>45.0</td>\n",
       "      <td>0</td>\n",
       "      <td>0</td>\n",
       "      <td>35</td>\n",
       "      <td>S</td>\n",
       "      <td>T</td>\n",
       "    </tr>\n",
       "    <tr>\n",
       "      <th>351</th>\n",
       "      <td>0</td>\n",
       "      <td>1</td>\n",
       "      <td>male</td>\n",
       "      <td>23.0</td>\n",
       "      <td>0</td>\n",
       "      <td>0</td>\n",
       "      <td>35</td>\n",
       "      <td>S</td>\n",
       "      <td>C</td>\n",
       "    </tr>\n",
       "    <tr>\n",
       "      <th>647</th>\n",
       "      <td>1</td>\n",
       "      <td>1</td>\n",
       "      <td>male</td>\n",
       "      <td>56.0</td>\n",
       "      <td>0</td>\n",
       "      <td>0</td>\n",
       "      <td>35</td>\n",
       "      <td>C</td>\n",
       "      <td>A</td>\n",
       "    </tr>\n",
       "  </tbody>\n",
       "</table>\n",
       "</div>"
      ],
      "text/plain": [
       "     Survived Pclass   Sex   Age  SibSp  Parch  Fare Embarked Cabin_new\n",
       "23          1      1  male  28.0      0      0    35        S         A\n",
       "55          1      1  male  65.0      0      0    35        S         C\n",
       "339         0      1  male  45.0      0      0    35        S         T\n",
       "351         0      1  male  23.0      0      0    35        S         C\n",
       "647         1      1  male  56.0      0      0    35        C         A"
      ]
     },
     "execution_count": 781,
     "metadata": {},
     "output_type": "execute_result"
    }
   ],
   "source": [
    "train_titanic[train_titanic[\"Fare\"]==35]"
   ]
  },
  {
   "cell_type": "code",
   "execution_count": 782,
   "id": "ac511b87",
   "metadata": {},
   "outputs": [],
   "source": [
    "# As there are no cabin with T in test set then to keep the same format in test and train set\n",
    "# We will replace T by C that is more similar to this view based on other attributes\n",
    "\n",
    "train_titanic['Cabin_new']=train_titanic['Cabin_new'].replace('T','C') "
   ]
  },
  {
   "cell_type": "code",
   "execution_count": 783,
   "id": "81adc845",
   "metadata": {},
   "outputs": [
    {
     "data": {
      "text/plain": [
       "array(['F', 'C', 'E', 'A', 'G', 'D', 'B'], dtype=object)"
      ]
     },
     "execution_count": 783,
     "metadata": {},
     "output_type": "execute_result"
    }
   ],
   "source": [
    "train_titanic[\"Cabin_new\"].unique()"
   ]
  },
  {
   "cell_type": "code",
   "execution_count": 784,
   "id": "05190bfe",
   "metadata": {},
   "outputs": [
    {
     "data": {
      "text/plain": [
       "((891, 20), (418, 19))"
      ]
     },
     "execution_count": 784,
     "metadata": {},
     "output_type": "execute_result"
    }
   ],
   "source": [
    "train_titanic_numeric=pd.get_dummies(train_titanic)\n",
    "\n",
    "test_titanic_numeric=pd.get_dummies(test_titanic)\n",
    "\n",
    "train_titanic_numeric.shape,test_titanic_numeric.shape"
   ]
  },
  {
   "cell_type": "code",
   "execution_count": 785,
   "id": "8011792b",
   "metadata": {},
   "outputs": [
    {
     "data": {
      "text/html": [
       "<div>\n",
       "<style scoped>\n",
       "    .dataframe tbody tr th:only-of-type {\n",
       "        vertical-align: middle;\n",
       "    }\n",
       "\n",
       "    .dataframe tbody tr th {\n",
       "        vertical-align: top;\n",
       "    }\n",
       "\n",
       "    .dataframe thead th {\n",
       "        text-align: right;\n",
       "    }\n",
       "</style>\n",
       "<table border=\"1\" class=\"dataframe\">\n",
       "  <thead>\n",
       "    <tr style=\"text-align: right;\">\n",
       "      <th></th>\n",
       "      <th>Survived</th>\n",
       "      <th>Age</th>\n",
       "      <th>SibSp</th>\n",
       "      <th>Parch</th>\n",
       "      <th>Fare</th>\n",
       "      <th>Pclass_1</th>\n",
       "      <th>Pclass_2</th>\n",
       "      <th>Pclass_3</th>\n",
       "      <th>Sex_female</th>\n",
       "      <th>Sex_male</th>\n",
       "      <th>Embarked_C</th>\n",
       "      <th>Embarked_Q</th>\n",
       "      <th>Embarked_S</th>\n",
       "      <th>Cabin_new_A</th>\n",
       "      <th>Cabin_new_B</th>\n",
       "      <th>Cabin_new_C</th>\n",
       "      <th>Cabin_new_D</th>\n",
       "      <th>Cabin_new_E</th>\n",
       "      <th>Cabin_new_F</th>\n",
       "      <th>Cabin_new_G</th>\n",
       "    </tr>\n",
       "  </thead>\n",
       "  <tbody>\n",
       "    <tr>\n",
       "      <th>0</th>\n",
       "      <td>0</td>\n",
       "      <td>22.0</td>\n",
       "      <td>1</td>\n",
       "      <td>0</td>\n",
       "      <td>7</td>\n",
       "      <td>0</td>\n",
       "      <td>0</td>\n",
       "      <td>1</td>\n",
       "      <td>0</td>\n",
       "      <td>1</td>\n",
       "      <td>0</td>\n",
       "      <td>0</td>\n",
       "      <td>1</td>\n",
       "      <td>0</td>\n",
       "      <td>0</td>\n",
       "      <td>0</td>\n",
       "      <td>0</td>\n",
       "      <td>0</td>\n",
       "      <td>1</td>\n",
       "      <td>0</td>\n",
       "    </tr>\n",
       "    <tr>\n",
       "      <th>1</th>\n",
       "      <td>1</td>\n",
       "      <td>38.0</td>\n",
       "      <td>1</td>\n",
       "      <td>0</td>\n",
       "      <td>71</td>\n",
       "      <td>1</td>\n",
       "      <td>0</td>\n",
       "      <td>0</td>\n",
       "      <td>1</td>\n",
       "      <td>0</td>\n",
       "      <td>1</td>\n",
       "      <td>0</td>\n",
       "      <td>0</td>\n",
       "      <td>0</td>\n",
       "      <td>0</td>\n",
       "      <td>1</td>\n",
       "      <td>0</td>\n",
       "      <td>0</td>\n",
       "      <td>0</td>\n",
       "      <td>0</td>\n",
       "    </tr>\n",
       "    <tr>\n",
       "      <th>2</th>\n",
       "      <td>1</td>\n",
       "      <td>26.0</td>\n",
       "      <td>0</td>\n",
       "      <td>0</td>\n",
       "      <td>7</td>\n",
       "      <td>0</td>\n",
       "      <td>0</td>\n",
       "      <td>1</td>\n",
       "      <td>1</td>\n",
       "      <td>0</td>\n",
       "      <td>0</td>\n",
       "      <td>0</td>\n",
       "      <td>1</td>\n",
       "      <td>0</td>\n",
       "      <td>0</td>\n",
       "      <td>0</td>\n",
       "      <td>0</td>\n",
       "      <td>0</td>\n",
       "      <td>1</td>\n",
       "      <td>0</td>\n",
       "    </tr>\n",
       "    <tr>\n",
       "      <th>3</th>\n",
       "      <td>1</td>\n",
       "      <td>35.0</td>\n",
       "      <td>1</td>\n",
       "      <td>0</td>\n",
       "      <td>53</td>\n",
       "      <td>1</td>\n",
       "      <td>0</td>\n",
       "      <td>0</td>\n",
       "      <td>1</td>\n",
       "      <td>0</td>\n",
       "      <td>0</td>\n",
       "      <td>0</td>\n",
       "      <td>1</td>\n",
       "      <td>0</td>\n",
       "      <td>0</td>\n",
       "      <td>1</td>\n",
       "      <td>0</td>\n",
       "      <td>0</td>\n",
       "      <td>0</td>\n",
       "      <td>0</td>\n",
       "    </tr>\n",
       "    <tr>\n",
       "      <th>4</th>\n",
       "      <td>0</td>\n",
       "      <td>35.0</td>\n",
       "      <td>0</td>\n",
       "      <td>0</td>\n",
       "      <td>8</td>\n",
       "      <td>0</td>\n",
       "      <td>0</td>\n",
       "      <td>1</td>\n",
       "      <td>0</td>\n",
       "      <td>1</td>\n",
       "      <td>0</td>\n",
       "      <td>0</td>\n",
       "      <td>1</td>\n",
       "      <td>0</td>\n",
       "      <td>0</td>\n",
       "      <td>0</td>\n",
       "      <td>0</td>\n",
       "      <td>1</td>\n",
       "      <td>0</td>\n",
       "      <td>0</td>\n",
       "    </tr>\n",
       "  </tbody>\n",
       "</table>\n",
       "</div>"
      ],
      "text/plain": [
       "   Survived   Age  SibSp  Parch  Fare  Pclass_1  Pclass_2  Pclass_3  \\\n",
       "0         0  22.0      1      0     7         0         0         1   \n",
       "1         1  38.0      1      0    71         1         0         0   \n",
       "2         1  26.0      0      0     7         0         0         1   \n",
       "3         1  35.0      1      0    53         1         0         0   \n",
       "4         0  35.0      0      0     8         0         0         1   \n",
       "\n",
       "   Sex_female  Sex_male  Embarked_C  Embarked_Q  Embarked_S  Cabin_new_A  \\\n",
       "0           0         1           0           0           1            0   \n",
       "1           1         0           1           0           0            0   \n",
       "2           1         0           0           0           1            0   \n",
       "3           1         0           0           0           1            0   \n",
       "4           0         1           0           0           1            0   \n",
       "\n",
       "   Cabin_new_B  Cabin_new_C  Cabin_new_D  Cabin_new_E  Cabin_new_F  \\\n",
       "0            0            0            0            0            1   \n",
       "1            0            1            0            0            0   \n",
       "2            0            0            0            0            1   \n",
       "3            0            1            0            0            0   \n",
       "4            0            0            0            1            0   \n",
       "\n",
       "   Cabin_new_G  \n",
       "0            0  \n",
       "1            0  \n",
       "2            0  \n",
       "3            0  \n",
       "4            0  "
      ]
     },
     "execution_count": 785,
     "metadata": {},
     "output_type": "execute_result"
    }
   ],
   "source": [
    "train_titanic_numeric.head()"
   ]
  },
  {
   "cell_type": "markdown",
   "id": "be0e2607",
   "metadata": {},
   "source": [
    "### Modelisation"
   ]
  },
  {
   "cell_type": "code",
   "execution_count": 786,
   "id": "20afc86f",
   "metadata": {},
   "outputs": [],
   "source": [
    "from sklearn.linear_model import LogisticRegression\n",
    "\n",
    "from sklearn.discriminant_analysis import LinearDiscriminantAnalysis\n",
    "\n",
    "from sklearn.neighbors import KNeighborsClassifier\n",
    "\n",
    "from sklearn.model_selection import train_test_split\n",
    "\n",
    "from sklearn.metrics import classification_report,confusion_matrix"
   ]
  },
  {
   "cell_type": "code",
   "execution_count": 787,
   "id": "ae3baaab",
   "metadata": {},
   "outputs": [],
   "source": [
    "lr_model=LogisticRegression(penalty=\"l2\",class_weight=\"balanced\")\n",
    "LDA=LinearDiscriminantAnalysis()\n",
    "KNN=KNeighborsClassifier(n_neighbors=2,n_jobs=-1)"
   ]
  },
  {
   "cell_type": "code",
   "execution_count": 788,
   "id": "baed2b72",
   "metadata": {},
   "outputs": [],
   "source": [
    "y=train_titanic_numeric[\"Survived\"]\n",
    "X=train_titanic_numeric.drop(columns=[\"Survived\"])"
   ]
  },
  {
   "cell_type": "code",
   "execution_count": 789,
   "id": "d69511a3",
   "metadata": {},
   "outputs": [],
   "source": [
    "X_train,X_valid,y_train,y_valid=train_test_split(X,y,test_size=.1)"
   ]
  },
  {
   "cell_type": "code",
   "execution_count": 790,
   "id": "3ca14819",
   "metadata": {},
   "outputs": [
    {
     "data": {
      "text/html": [
       "<style>#sk-container-id-9 {color: black;background-color: white;}#sk-container-id-9 pre{padding: 0;}#sk-container-id-9 div.sk-toggleable {background-color: white;}#sk-container-id-9 label.sk-toggleable__label {cursor: pointer;display: block;width: 100%;margin-bottom: 0;padding: 0.3em;box-sizing: border-box;text-align: center;}#sk-container-id-9 label.sk-toggleable__label-arrow:before {content: \"▸\";float: left;margin-right: 0.25em;color: #696969;}#sk-container-id-9 label.sk-toggleable__label-arrow:hover:before {color: black;}#sk-container-id-9 div.sk-estimator:hover label.sk-toggleable__label-arrow:before {color: black;}#sk-container-id-9 div.sk-toggleable__content {max-height: 0;max-width: 0;overflow: hidden;text-align: left;background-color: #f0f8ff;}#sk-container-id-9 div.sk-toggleable__content pre {margin: 0.2em;color: black;border-radius: 0.25em;background-color: #f0f8ff;}#sk-container-id-9 input.sk-toggleable__control:checked~div.sk-toggleable__content {max-height: 200px;max-width: 100%;overflow: auto;}#sk-container-id-9 input.sk-toggleable__control:checked~label.sk-toggleable__label-arrow:before {content: \"▾\";}#sk-container-id-9 div.sk-estimator input.sk-toggleable__control:checked~label.sk-toggleable__label {background-color: #d4ebff;}#sk-container-id-9 div.sk-label input.sk-toggleable__control:checked~label.sk-toggleable__label {background-color: #d4ebff;}#sk-container-id-9 input.sk-hidden--visually {border: 0;clip: rect(1px 1px 1px 1px);clip: rect(1px, 1px, 1px, 1px);height: 1px;margin: -1px;overflow: hidden;padding: 0;position: absolute;width: 1px;}#sk-container-id-9 div.sk-estimator {font-family: monospace;background-color: #f0f8ff;border: 1px dotted black;border-radius: 0.25em;box-sizing: border-box;margin-bottom: 0.5em;}#sk-container-id-9 div.sk-estimator:hover {background-color: #d4ebff;}#sk-container-id-9 div.sk-parallel-item::after {content: \"\";width: 100%;border-bottom: 1px solid gray;flex-grow: 1;}#sk-container-id-9 div.sk-label:hover label.sk-toggleable__label {background-color: #d4ebff;}#sk-container-id-9 div.sk-serial::before {content: \"\";position: absolute;border-left: 1px solid gray;box-sizing: border-box;top: 0;bottom: 0;left: 50%;z-index: 0;}#sk-container-id-9 div.sk-serial {display: flex;flex-direction: column;align-items: center;background-color: white;padding-right: 0.2em;padding-left: 0.2em;position: relative;}#sk-container-id-9 div.sk-item {position: relative;z-index: 1;}#sk-container-id-9 div.sk-parallel {display: flex;align-items: stretch;justify-content: center;background-color: white;position: relative;}#sk-container-id-9 div.sk-item::before, #sk-container-id-9 div.sk-parallel-item::before {content: \"\";position: absolute;border-left: 1px solid gray;box-sizing: border-box;top: 0;bottom: 0;left: 50%;z-index: -1;}#sk-container-id-9 div.sk-parallel-item {display: flex;flex-direction: column;z-index: 1;position: relative;background-color: white;}#sk-container-id-9 div.sk-parallel-item:first-child::after {align-self: flex-end;width: 50%;}#sk-container-id-9 div.sk-parallel-item:last-child::after {align-self: flex-start;width: 50%;}#sk-container-id-9 div.sk-parallel-item:only-child::after {width: 0;}#sk-container-id-9 div.sk-dashed-wrapped {border: 1px dashed gray;margin: 0 0.4em 0.5em 0.4em;box-sizing: border-box;padding-bottom: 0.4em;background-color: white;}#sk-container-id-9 div.sk-label label {font-family: monospace;font-weight: bold;display: inline-block;line-height: 1.2em;}#sk-container-id-9 div.sk-label-container {text-align: center;}#sk-container-id-9 div.sk-container {/* jupyter's `normalize.less` sets `[hidden] { display: none; }` but bootstrap.min.css set `[hidden] { display: none !important; }` so we also need the `!important` here to be able to override the default hidden behavior on the sphinx rendered scikit-learn.org. See: https://github.com/scikit-learn/scikit-learn/issues/21755 */display: inline-block !important;position: relative;}#sk-container-id-9 div.sk-text-repr-fallback {display: none;}</style><div id=\"sk-container-id-9\" class=\"sk-top-container\"><div class=\"sk-text-repr-fallback\"><pre>KNeighborsClassifier(n_jobs=-1, n_neighbors=2)</pre><b>In a Jupyter environment, please rerun this cell to show the HTML representation or trust the notebook. <br />On GitHub, the HTML representation is unable to render, please try loading this page with nbviewer.org.</b></div><div class=\"sk-container\" hidden><div class=\"sk-item\"><div class=\"sk-estimator sk-toggleable\"><input class=\"sk-toggleable__control sk-hidden--visually\" id=\"sk-estimator-id-9\" type=\"checkbox\" checked><label for=\"sk-estimator-id-9\" class=\"sk-toggleable__label sk-toggleable__label-arrow\">KNeighborsClassifier</label><div class=\"sk-toggleable__content\"><pre>KNeighborsClassifier(n_jobs=-1, n_neighbors=2)</pre></div></div></div></div></div>"
      ],
      "text/plain": [
       "KNeighborsClassifier(n_jobs=-1, n_neighbors=2)"
      ]
     },
     "execution_count": 790,
     "metadata": {},
     "output_type": "execute_result"
    }
   ],
   "source": [
    "lr_model.fit(X_train,y_train)\n",
    "LDA.fit(X_train,y_train)\n",
    "KNN.fit(X_train,y_train)\n"
   ]
  },
  {
   "cell_type": "code",
   "execution_count": 791,
   "id": "d8fdd9c3",
   "metadata": {},
   "outputs": [
    {
     "data": {
      "text/plain": [
       "(0.7902621722846442, 0.8089887640449438, 0.8264669163545568)"
      ]
     },
     "execution_count": 791,
     "metadata": {},
     "output_type": "execute_result"
    }
   ],
   "source": [
    "lr_model.score(X_train,y_train),LDA.score(X_train,y_train),KNN.score(X_train,y_train)"
   ]
  },
  {
   "cell_type": "markdown",
   "id": "03b3e9ea",
   "metadata": {},
   "source": [
    "# Optimisation"
   ]
  },
  {
   "cell_type": "code",
   "execution_count": 792,
   "id": "2a5f2cc4",
   "metadata": {},
   "outputs": [],
   "source": [
    "from sklearn.model_selection import GridSearchCV"
   ]
  },
  {
   "cell_type": "markdown",
   "id": "76ad53c5",
   "metadata": {},
   "source": [
    "### Logistic Regression"
   ]
  },
  {
   "cell_type": "code",
   "execution_count": 793,
   "id": "1e1c04c6",
   "metadata": {},
   "outputs": [
    {
     "name": "stdout",
     "output_type": "stream",
     "text": [
      "tuned hpyerparameters :(best parameters)  {'C': 0.46415888336127775, 'penalty': 'l2'}\n",
      "Accuracy for our training dataset with tuning is : 79.27%\n"
     ]
    }
   ],
   "source": [
    "grid={\"C\":np.logspace(-3,3,10), \"penalty\":[\"l1\",\"l2\",\"elasticnet\"]}# l1 lasso l2 ridge\n",
    "logreg=LogisticRegression()\n",
    "logreg_cv=GridSearchCV(logreg,grid,cv=10)\n",
    "logreg_cv.fit(X_train,y_train)\n",
    "\n",
    "print(\"tuned hpyerparameters :(best parameters) \",logreg_cv.best_params_)\n",
    "\n",
    "print(\"Accuracy for our training dataset with tuning is : {:.2%}\".format(logreg_cv.best_score_) )"
   ]
  },
  {
   "cell_type": "code",
   "execution_count": 794,
   "id": "cf9ee5d2",
   "metadata": {},
   "outputs": [
    {
     "name": "stdout",
     "output_type": "stream",
     "text": [
      "              precision    recall  f1-score   support\n",
      "\n",
      "           0       0.88      0.88      0.88        60\n",
      "           1       0.77      0.77      0.77        30\n",
      "\n",
      "    accuracy                           0.84        90\n",
      "   macro avg       0.82      0.82      0.82        90\n",
      "weighted avg       0.84      0.84      0.84        90\n",
      "\n"
     ]
    }
   ],
   "source": [
    "y_predict=logreg_cv.predict(X_valid)\n",
    "\n",
    "print(classification_report(y_valid,y_predict))"
   ]
  },
  {
   "cell_type": "code",
   "execution_count": 795,
   "id": "d71b5657",
   "metadata": {},
   "outputs": [
    {
     "data": {
      "text/plain": [
       "<Figure size 1000x1400 with 0 Axes>"
      ]
     },
     "metadata": {},
     "output_type": "display_data"
    },
    {
     "data": {
      "image/png": "[encoded data removed]",
      "text/plain": [
       "<Figure size 640x480 with 2 Axes>"
      ]
     },
     "metadata": {},
     "output_type": "display_data"
    }
   ],
   "source": [
    "from sklearn import metrics\n",
    "\n",
    "#Calcul de la matrice de confusion\n",
    "y_valid_pred=logreg_cv.predict(X_valid)\n",
    "confu_mat=metrics.confusion_matrix(y_valid,y_valid_pred)\n",
    "cm_obj=metrics.ConfusionMatrixDisplay(confu_mat,\n",
    "                                      #display_labels=randomforest.\n",
    "                                     )\n",
    "plt.figure(figsize=(10,14))\n",
    "plt.rcParams.update({'font.size':15})\n",
    "cm_obj.plot()\n",
    "cm_obj.ax_.set(title='Matrice de confusion')\n",
    "\n",
    "plt.show()"
   ]
  },
  {
   "cell_type": "code",
   "execution_count": 796,
   "id": "d6252dfc",
   "metadata": {},
   "outputs": [
    {
     "name": "stdout",
     "output_type": "stream",
     "text": [
      "Le score moyen sur la capacité prédictif du modèle:69.44% with std:10.90%\n"
     ]
    }
   ],
   "source": [
    "from sklearn.model_selection import ShuffleSplit, cross_val_score\n",
    "\n",
    "shufflesplit=ShuffleSplit(n_splits=20, test_size=0.2,random_state=0)\n",
    "results=cross_val_score(logreg_cv,X_valid,y_valid,cv=shufflesplit)\n",
    "print(f\"Le score moyen sur la capacité prédictif du modèle:{np.mean(results):.2%} with std:{np.std(results):.2%}\")"
   ]
  },
  {
   "cell_type": "markdown",
   "id": "3f1c6a22",
   "metadata": {},
   "source": [
    "### Submission"
   ]
  },
  {
   "cell_type": "code",
   "execution_count": 797,
   "id": "03b41968",
   "metadata": {},
   "outputs": [],
   "source": [
    "# submi_lr=pd.read_csv(\"gender_submission.csv\")\n",
    "\n",
    "# submi_lr[\"Survived\"]=logreg_cv.predict(test_titanic_numeric)"
   ]
  },
  {
   "cell_type": "code",
   "execution_count": 798,
   "id": "42c158c3",
   "metadata": {},
   "outputs": [],
   "source": [
    "# submi_lr.to_csv(\"submi_lr.csv\",index=False)"
   ]
  },
  {
   "cell_type": "markdown",
   "id": "fab26b1f",
   "metadata": {},
   "source": [
    "### KNeighborsClassifier"
   ]
  },
  {
   "cell_type": "code",
   "execution_count": 799,
   "id": "2e438afb",
   "metadata": {},
   "outputs": [
    {
     "name": "stdout",
     "output_type": "stream",
     "text": [
      "Fitting 10 folds for each of 30 candidates, totalling 300 fits\n",
      "{'n_neighbors': 3}\n",
      "Accuracy for our training dataset with tuning is : 69.91%\n"
     ]
    }
   ],
   "source": [
    "KNN = KNeighborsClassifier()\n",
    "k_range = list(range(1, 31))\n",
    "param_grid = dict(n_neighbors=k_range)\n",
    "  \n",
    "# defining parameter range\n",
    "grid = GridSearchCV(KNN, param_grid, cv=10, scoring='accuracy', return_train_score=False,verbose=1)\n",
    "  \n",
    "# fitting the model for grid search\n",
    "grid_search_knn=grid.fit(X_train, y_train)\n",
    "\n",
    "\n",
    "print(grid_search_knn.best_params_)\n",
    "\n",
    "print(\"Accuracy for our training dataset with tuning is : {:.2%}\".format(grid_search_knn.best_score_) )"
   ]
  },
  {
   "cell_type": "code",
   "execution_count": 800,
   "id": "1732cb8c",
   "metadata": {},
   "outputs": [
    {
     "name": "stdout",
     "output_type": "stream",
     "text": [
      "              precision    recall  f1-score   support\n",
      "\n",
      "           0       0.79      0.82      0.80        60\n",
      "           1       0.61      0.57      0.59        30\n",
      "\n",
      "    accuracy                           0.73        90\n",
      "   macro avg       0.70      0.69      0.69        90\n",
      "weighted avg       0.73      0.73      0.73        90\n",
      "\n"
     ]
    }
   ],
   "source": [
    "y_predict=grid_search_knn.predict(X_valid)\n",
    "\n",
    "print(classification_report(y_valid,y_predict))"
   ]
  },
  {
   "cell_type": "code",
   "execution_count": 801,
   "id": "d3255fd5",
   "metadata": {},
   "outputs": [
    {
     "name": "stdout",
     "output_type": "stream",
     "text": [
      "Fitting 10 folds for each of 30 candidates, totalling 300 fits\n",
      "Fitting 10 folds for each of 30 candidates, totalling 300 fits\n",
      "Fitting 10 folds for each of 30 candidates, totalling 300 fits\n",
      "Fitting 10 folds for each of 30 candidates, totalling 300 fits\n",
      "Fitting 10 folds for each of 30 candidates, totalling 300 fits\n",
      "Fitting 10 folds for each of 30 candidates, totalling 300 fits\n",
      "Fitting 10 folds for each of 30 candidates, totalling 300 fits\n",
      "Fitting 10 folds for each of 30 candidates, totalling 300 fits\n",
      "Fitting 10 folds for each of 30 candidates, totalling 300 fits\n",
      "Fitting 10 folds for each of 30 candidates, totalling 300 fits\n",
      "Le score moyen sur la capacité prédictif du modèle:57.78% with std:10.89%\n"
     ]
    }
   ],
   "source": [
    "from sklearn.model_selection import ShuffleSplit, cross_val_score\n",
    "\n",
    "shufflesplit=ShuffleSplit(n_splits=10, test_size=0.2,random_state=0)\n",
    "results=cross_val_score(grid_search_knn,X_valid,y_valid,cv=shufflesplit)\n",
    "print(f\"Le score moyen sur la capacité prédictif du modèle:{np.mean(results):.2%} with std:{np.std(results):.2%}\")"
   ]
  },
  {
   "cell_type": "markdown",
   "id": "5ce12e22",
   "metadata": {},
   "source": [
    "### Important variable for survival modelling"
   ]
  },
  {
   "cell_type": "code",
   "execution_count": 802,
   "id": "b68117b7",
   "metadata": {},
   "outputs": [
    {
     "name": "stdout",
     "output_type": "stream",
     "text": [
      "Significant variables in modeling passenger survival:  Index(['Fare', 'Pclass_1', 'Pclass_2', 'Pclass_3', 'Sex_female', 'Sex_male',\n",
      "       'Embarked_C', 'Embarked_S', 'Cabin_new_C', 'Cabin_new_F'],\n",
      "      dtype='object')\n"
     ]
    }
   ],
   "source": [
    "from sklearn.feature_selection import chi2,SelectKBest,RFE,f_classif\n",
    "\n",
    "selector=SelectKBest(score_func=f_classif)\n",
    "\n",
    "# Entrainnement de la méthode\n",
    "selector_fitted=selector.fit(X_train,y_train)\n",
    "\n",
    "print(\"Significant variables in modeling passenger survival: \",X_train.columns[selector_fitted.get_support()])"
   ]
  },
  {
   "cell_type": "code",
   "execution_count": 803,
   "id": "cde95bf6",
   "metadata": {},
   "outputs": [
    {
     "data": {
      "text/plain": [
       "<Figure size 1000x1400 with 0 Axes>"
      ]
     },
     "metadata": {},
     "output_type": "display_data"
    },
    {
     "data": {
      "image/png": "[encoded data removed]",
      "text/plain": [
       "<Figure size 640x480 with 2 Axes>"
      ]
     },
     "metadata": {},
     "output_type": "display_data"
    }
   ],
   "source": [
    "#Calcul de la matrice de confusion\n",
    "y_valid_pred=grid_search_knn.predict(X_valid)\n",
    "confu_mat=metrics.confusion_matrix(y_valid,y_valid_pred)\n",
    "cm_obj=metrics.ConfusionMatrixDisplay(confu_mat,\n",
    "                                      #display_labels=randomforest.\n",
    "                                     )\n",
    "plt.figure(figsize=(10,14))\n",
    "plt.rcParams.update({'font.size':15})\n",
    "cm_obj.plot()\n",
    "cm_obj.ax_.set(title='Matrice de confusion')\n",
    "\n",
    "plt.show()"
   ]
  },
  {
   "cell_type": "markdown",
   "id": "49c60959",
   "metadata": {},
   "source": [
    "### Submission"
   ]
  },
  {
   "cell_type": "code",
   "execution_count": 804,
   "id": "f4edd3c9",
   "metadata": {},
   "outputs": [],
   "source": [
    "# submi_knn=pd.read_csv(\"gender_submission.csv\")\n",
    "\n",
    "# submi_knn[\"Survived\"]=grid_search_knn.predict(test_titanic_numeric)"
   ]
  },
  {
   "cell_type": "code",
   "execution_count": 805,
   "id": "df6ee02e",
   "metadata": {},
   "outputs": [],
   "source": [
    "# submi_knn.to_csv(\"submi_knn.csv\",index=False)"
   ]
  },
  {
   "cell_type": "markdown",
   "id": "7a9ece4e",
   "metadata": {},
   "source": [
    "### LinearDiscriminantAnalysis "
   ]
  },
  {
   "cell_type": "code",
   "execution_count": 806,
   "id": "47120ee6",
   "metadata": {},
   "outputs": [
    {
     "name": "stdout",
     "output_type": "stream",
     "text": [
      "{'solver': 'svd'}\n",
      "Accuracy for our training dataset with tuning is : 78.52%\n"
     ]
    }
   ],
   "source": [
    "grid=dict()\n",
    "grid['solver']=['svd', 'lsqr', 'eigen']\n",
    "\n",
    "lda_search=GridSearchCV(LDA, grid, scoring='accuracy', cv=10, n_jobs=-1 )\n",
    "\n",
    "lda_search.fit(X_train,y_train)\n",
    "\n",
    "print(lda_search.best_params_)\n",
    "\n",
    "print(\"Accuracy for our training dataset with tuning is : {:.2%}\".format(lda_search.best_score_) )"
   ]
  },
  {
   "cell_type": "code",
   "execution_count": 807,
   "id": "b1e8a8a3",
   "metadata": {},
   "outputs": [
    {
     "name": "stdout",
     "output_type": "stream",
     "text": [
      "              precision    recall  f1-score   support\n",
      "\n",
      "           0       0.89      0.85      0.87        60\n",
      "           1       0.73      0.80      0.76        30\n",
      "\n",
      "    accuracy                           0.83        90\n",
      "   macro avg       0.81      0.82      0.82        90\n",
      "weighted avg       0.84      0.83      0.84        90\n",
      "\n"
     ]
    }
   ],
   "source": [
    "y_predict=lda_search.predict(X_valid)\n",
    "\n",
    "print(classification_report(y_valid,y_predict))"
   ]
  },
  {
   "cell_type": "code",
   "execution_count": 808,
   "id": "0f0e4f3a",
   "metadata": {},
   "outputs": [
    {
     "name": "stdout",
     "output_type": "stream",
     "text": [
      "Le score moyen sur la capacité prédictif du modèle:72.78% with std:8.77%\n"
     ]
    }
   ],
   "source": [
    "from sklearn.model_selection import ShuffleSplit, cross_val_score\n",
    "\n",
    "shufflesplit=ShuffleSplit(n_splits=20, test_size=0.2,random_state=0)\n",
    "results=cross_val_score(lda_search,X_valid,y_valid,cv=shufflesplit)\n",
    "print(f\"Le score moyen sur la capacité prédictif du modèle:{np.mean(results):.2%} with std:{np.std(results):.2%}\")"
   ]
  },
  {
   "cell_type": "code",
   "execution_count": 809,
   "id": "6864d255",
   "metadata": {},
   "outputs": [
    {
     "data": {
      "text/plain": [
       "<Figure size 1000x1400 with 0 Axes>"
      ]
     },
     "metadata": {},
     "output_type": "display_data"
    },
    {
     "data": {
      "image/png": "[encoded data removed]",
      "text/plain": [
       "<Figure size 640x480 with 2 Axes>"
      ]
     },
     "metadata": {},
     "output_type": "display_data"
    }
   ],
   "source": [
    "#Calcul de la matrice de confusion\n",
    "y_valid_pred=lda_search.predict(X_valid)\n",
    "confu_mat=metrics.confusion_matrix(y_valid,y_valid_pred)\n",
    "cm_obj=metrics.ConfusionMatrixDisplay(confu_mat,\n",
    "                                      #display_labels=randomforest.\n",
    "                                     )\n",
    "plt.figure(figsize=(10,14))\n",
    "plt.rcParams.update({'font.size':15})\n",
    "cm_obj.plot()\n",
    "cm_obj.ax_.set(title='Matrice de confusion')\n",
    "\n",
    "plt.show()"
   ]
  },
  {
   "cell_type": "markdown",
   "id": "e1439b1c",
   "metadata": {},
   "source": [
    "### Submission"
   ]
  },
  {
   "cell_type": "code",
   "execution_count": 810,
   "id": "f8462607",
   "metadata": {},
   "outputs": [],
   "source": [
    "# submi_lda=pd.read_csv(\"gender_submission.csv\")\n",
    "# submi_lda[\"Survived\"]=lda_search.predict(test_titanic_numeric)"
   ]
  },
  {
   "cell_type": "code",
   "execution_count": 811,
   "id": "327dea0a",
   "metadata": {},
   "outputs": [],
   "source": [
    "# submi_lda.to_csv(\"submi_lda.csv\",index=False)"
   ]
  },
  {
   "cell_type": "markdown",
   "id": "81a4006c",
   "metadata": {},
   "source": [
    "## Choose performances indicators for the Titanic predictor"
   ]
  },
  {
   "cell_type": "markdown",
   "id": "8f5898f3",
   "metadata": {},
   "source": [
    "### KNeighborsClassifier"
   ]
  },
  {
   "cell_type": "code",
   "execution_count": 813,
   "id": "ec0aa2c8",
   "metadata": {},
   "outputs": [
    {
     "name": "stdout",
     "output_type": "stream",
     "text": [
      "Fitting 10 folds for each of 30 candidates, totalling 300 fits\n",
      "Accuracy for our training dataset with tuning is : 69.91%\n",
      "              precision    recall  f1-score   support\n",
      "\n",
      "           0       0.79      0.82      0.80        60\n",
      "           1       0.61      0.57      0.59        30\n",
      "\n",
      "    accuracy                           0.73        90\n",
      "   macro avg       0.70      0.69      0.69        90\n",
      "weighted avg       0.73      0.73      0.73        90\n",
      "\n"
     ]
    }
   ],
   "source": [
    "KNN = KNeighborsClassifier()\n",
    "k_range = list(range(1, 31))\n",
    "param_grid = dict(n_neighbors=k_range)\n",
    "  \n",
    "# defining parameter range\n",
    "grid = GridSearchCV(KNN, param_grid, cv=10, scoring='accuracy', return_train_score=False,verbose=1)\n",
    "  \n",
    "# fitting the model for grid search\n",
    "grid_search_knn=grid.fit(X_train, y_train)\n",
    "\n",
    "print(\"Accuracy for our training dataset with tuning is : {:.2%}\".format(grid_search_knn.best_score_) )\n",
    "y_predict_knn = grid_search_knn.predict(X_valid)\n",
    "print(classification_report(y_valid,y_predict_knn))"
   ]
  },
  {
   "cell_type": "markdown",
   "id": "baf037f4",
   "metadata": {},
   "source": [
    "### Linear Discriminant Analysis"
   ]
  },
  {
   "cell_type": "code",
   "execution_count": 814,
   "id": "64da76d8",
   "metadata": {},
   "outputs": [
    {
     "name": "stdout",
     "output_type": "stream",
     "text": [
      "Accuracy for our training dataset with tuning is : 78.52%\n",
      "              precision    recall  f1-score   support\n",
      "\n",
      "           0       0.89      0.85      0.87        60\n",
      "           1       0.73      0.80      0.76        30\n",
      "\n",
      "    accuracy                           0.83        90\n",
      "   macro avg       0.81      0.82      0.82        90\n",
      "weighted avg       0.84      0.83      0.84        90\n",
      "\n"
     ]
    }
   ],
   "source": [
    "grid=dict()\n",
    "grid['solver']=['svd', 'lsqr', 'eigen']\n",
    "\n",
    "lda_search=GridSearchCV(LDA, grid, scoring='accuracy', cv=10, n_jobs=-1 )\n",
    "\n",
    "lda_search.fit(X_train,y_train)\n",
    "\n",
    "print(\"Accuracy for our training dataset with tuning is : {:.2%}\".format(lda_search.best_score_) )\n",
    "y_predict_lda=lda_search.predict(X_valid)\n",
    "print(classification_report(y_valid,y_predict_lda))"
   ]
  },
  {
   "cell_type": "markdown",
   "id": "18cabfe8",
   "metadata": {},
   "source": [
    "### Logistic Regression"
   ]
  },
  {
   "cell_type": "code",
   "execution_count": 815,
   "id": "40492b74",
   "metadata": {},
   "outputs": [
    {
     "name": "stdout",
     "output_type": "stream",
     "text": [
      "Accuracy for our training dataset with tuning is : 79.27%\n",
      "              precision    recall  f1-score   support\n",
      "\n",
      "           0       0.88      0.88      0.88        60\n",
      "           1       0.77      0.77      0.77        30\n",
      "\n",
      "    accuracy                           0.84        90\n",
      "   macro avg       0.82      0.82      0.82        90\n",
      "weighted avg       0.84      0.84      0.84        90\n",
      "\n"
     ]
    }
   ],
   "source": [
    "grid={\"C\":np.logspace(-3,3,10), \"penalty\":[\"l1\",\"l2\",\"elasticnet\"]}# l1 lasso l2 ridge\n",
    "logreg=LogisticRegression()\n",
    "logreg_cv=GridSearchCV(logreg,grid,cv=10)\n",
    "logreg_cv.fit(X_train,y_train)\n",
    "\n",
    "print(\"Accuracy for our training dataset with tuning is : {:.2%}\".format(logreg_cv.best_score_) )\n",
    "y_predict_lr=logreg_cv.predict(X_valid)\n",
    "print(classification_report(y_valid,y_predict_lr))"
   ]
  },
  {
   "cell_type": "code",
   "execution_count": 816,
   "id": "4fd8ad97",
   "metadata": {},
   "outputs": [],
   "source": [
    "def toFixed(numObj, digits=0):\n",
    "    return float(f\"{numObj:.{digits}f}\")"
   ]
  },
  {
   "cell_type": "markdown",
   "id": "44447dca",
   "metadata": {},
   "source": [
    "### Accuracy"
   ]
  },
  {
   "cell_type": "code",
   "execution_count": 901,
   "id": "c46c4f99",
   "metadata": {},
   "outputs": [],
   "source": [
    "from sklearn.metrics import accuracy_score\n",
    "\n",
    "accuracy_knn = accuracy_score(y_valid, y_predict_knn, normalize=True)\n",
    "accuracy_lda = accuracy_score(y_valid, y_predict_lda, normalize=True)\n",
    "accuracy_lr = accuracy_score(y_valid, y_predict_lr, normalize=True)\n",
    "all_accuracy = toFixed(accuracy_knn,3), toFixed(accuracy_lda,3), toFixed(accuracy_lr,3)"
   ]
  },
  {
   "cell_type": "code",
   "execution_count": 902,
   "id": "5487715c",
   "metadata": {},
   "outputs": [
    {
     "name": "stdout",
     "output_type": "stream",
     "text": [
      "accuracy knn  0.733\n",
      "accuracy lda  0.833\n",
      "accuracy lr  0.844\n"
     ]
    }
   ],
   "source": [
    "print('accuracy knn ', toFixed(accuracy_knn, 3))\n",
    "print('accuracy lda ', toFixed(accuracy_lda, 3))\n",
    "print('accuracy lr ', toFixed(accuracy_lr, 3))"
   ]
  },
  {
   "cell_type": "code",
   "execution_count": 903,
   "id": "22c589d6",
   "metadata": {},
   "outputs": [],
   "source": [
    "columns_model = ['KNN', 'LDA', 'LR']"
   ]
  },
  {
   "cell_type": "code",
   "execution_count": 904,
   "id": "5b7dd495",
   "metadata": {},
   "outputs": [],
   "source": [
    "label_0 = 'Accuracy values'"
   ]
  },
  {
   "cell_type": "code",
   "execution_count": 905,
   "id": "f83132a9",
   "metadata": {},
   "outputs": [
    {
     "data": {
      "text/html": [
       "<div>\n",
       "<style scoped>\n",
       "    .dataframe tbody tr th:only-of-type {\n",
       "        vertical-align: middle;\n",
       "    }\n",
       "\n",
       "    .dataframe tbody tr th {\n",
       "        vertical-align: top;\n",
       "    }\n",
       "\n",
       "    .dataframe thead th {\n",
       "        text-align: right;\n",
       "    }\n",
       "</style>\n",
       "<table border=\"1\" class=\"dataframe\">\n",
       "  <thead>\n",
       "    <tr style=\"text-align: right;\">\n",
       "      <th></th>\n",
       "      <th>Models</th>\n",
       "      <th>Accuracy values</th>\n",
       "    </tr>\n",
       "  </thead>\n",
       "  <tbody>\n",
       "    <tr>\n",
       "      <th>0</th>\n",
       "      <td>KNN</td>\n",
       "      <td>0.733</td>\n",
       "    </tr>\n",
       "    <tr>\n",
       "      <th>1</th>\n",
       "      <td>LDA</td>\n",
       "      <td>0.833</td>\n",
       "    </tr>\n",
       "    <tr>\n",
       "      <th>2</th>\n",
       "      <td>LR</td>\n",
       "      <td>0.844</td>\n",
       "    </tr>\n",
       "  </tbody>\n",
       "</table>\n",
       "</div>"
      ],
      "text/plain": [
       "  Models  Accuracy values\n",
       "0    KNN            0.733\n",
       "1    LDA            0.833\n",
       "2     LR            0.844"
      ]
     },
     "execution_count": 905,
     "metadata": {},
     "output_type": "execute_result"
    }
   ],
   "source": [
    "df_accuracy = pd.DataFrame({\n",
    "    'Models': columns_model,\n",
    "    label_0: all_accuracy\n",
    "})\n",
    "df_accuracy"
   ]
  },
  {
   "cell_type": "code",
   "execution_count": 887,
   "id": "a994a340",
   "metadata": {},
   "outputs": [
    {
     "data": {
      "image/png": "[encoded data removed]",
      "text/plain": [
       "<Figure size 640x480 with 1 Axes>"
      ]
     },
     "metadata": {},
     "output_type": "display_data"
    }
   ],
   "source": [
    "sns.set_theme(style = 'whitegrid')\n",
    "sns.barplot(x='Models', y=label_0, data=df_accuracy,  palette = 'BuGn_r');"
   ]
  },
  {
   "cell_type": "markdown",
   "id": "3e0f0dc0",
   "metadata": {},
   "source": [
    "### Precision"
   ]
  },
  {
   "cell_type": "code",
   "execution_count": 832,
   "id": "b17112af",
   "metadata": {},
   "outputs": [],
   "source": [
    "from sklearn.metrics import precision_score\n",
    "\n",
    "def get_precision(y_predict):\n",
    "    precision_score_macro = precision_score(y_valid, y_predict, average='macro')\n",
    "    precision_score_micro = precision_score(y_valid, y_predict, average='micro')\n",
    "    precision_score_weighted = precision_score(y_valid, y_predict, average='weighted')\n",
    "    precision_out = toFixed(precision_score_macro, 3), toFixed(precision_score_micro, 3), toFixed(precision_score_weighted, 3)\n",
    "    \n",
    "    return precision_out"
   ]
  },
  {
   "cell_type": "code",
   "execution_count": 833,
   "id": "9ea330ee",
   "metadata": {},
   "outputs": [],
   "source": [
    "precision_knn = get_precision(y_predict_knn)\n",
    "precision_lda = get_precision(y_predict_lda)\n",
    "precision_lr = get_precision(y_predict_lr)"
   ]
  },
  {
   "cell_type": "code",
   "execution_count": 834,
   "id": "74a49c71",
   "metadata": {
    "scrolled": false
   },
   "outputs": [
    {
     "name": "stdout",
     "output_type": "stream",
     "text": [
      "precision score knn  (0.699, 0.733, 0.729)\n",
      "precision score lda  (0.811, 0.833, 0.839)\n",
      "precision score lr  (0.825, 0.844, 0.844)\n"
     ]
    }
   ],
   "source": [
    "print('precision score knn ', precision_knn)\n",
    "print('precision score lda ', precision_lda)\n",
    "print('precision score lr ', precision_lr)"
   ]
  },
  {
   "cell_type": "code",
   "execution_count": 835,
   "id": "2b163b9a",
   "metadata": {},
   "outputs": [],
   "source": [
    "columns_average = ['macro', 'micro', 'weighted']"
   ]
  },
  {
   "cell_type": "code",
   "execution_count": 847,
   "id": "405ac899",
   "metadata": {},
   "outputs": [],
   "source": [
    "def get_pd_indicator(model_name, indicator):\n",
    "    data = {\n",
    "        'model': model_name,\n",
    "        'macro': indicator[0],\n",
    "        'micro': indicator[1],\n",
    "        'weighted': indicator[2]\n",
    "    }\n",
    "    pd_indicator = pd.DataFrame(data, index=[0])\n",
    "    return pd_indicator"
   ]
  },
  {
   "cell_type": "code",
   "execution_count": 849,
   "id": "5bc0dc9b",
   "metadata": {},
   "outputs": [],
   "source": [
    "def get_pd_together(precision_knn, precision_lda, precision_lr):\n",
    "    df = pd.DataFrame()\n",
    "    \n",
    "    df_knn = get_pd_indicator(columns_model[0], precision_knn)\n",
    "    df = df.append(df_knn)\n",
    "    \n",
    "    df_lda = get_pd_indicator(columns_model[1], precision_lda)\n",
    "    df = df.append(df_lda)\n",
    "    \n",
    "    df_lr = get_pd_indicator(columns_model[2], precision_lr)\n",
    "    df = df.append(df_lr)\n",
    "    \n",
    "    df.reset_index(drop=True)\n",
    "    return df"
   ]
  },
  {
   "cell_type": "code",
   "execution_count": 851,
   "id": "9022cff9",
   "metadata": {},
   "outputs": [],
   "source": [
    "# color = list()\n",
    "color_0 = 'darkslategray'\n",
    "color_1 = 'darkgreen'\n",
    "color_2 = 'lightseagreen'"
   ]
  },
  {
   "cell_type": "code",
   "execution_count": 863,
   "id": "c4fe5756",
   "metadata": {},
   "outputs": [],
   "source": [
    "def get_plot(df, label):\n",
    "    ax = plt.gca()\n",
    "    df.plot(kind='line', x = 'model', y='weighted', ax=ax, color = color_2, marker='o')\n",
    "    df.plot(kind='line', x = 'model', y='micro', ax=ax, color = color_1, marker='o')\n",
    "    df.plot(kind='line', x = 'model', y='macro', ax=ax, color = color_0, marker='o')    \n",
    "    plt.ylabel(label)"
   ]
  },
  {
   "cell_type": "code",
   "execution_count": 864,
   "id": "b560a869",
   "metadata": {},
   "outputs": [],
   "source": [
    "df_precision = get_pd_together(precision_knn, precision_lda, precision_lr)"
   ]
  },
  {
   "cell_type": "code",
   "execution_count": 865,
   "id": "7b2ca198",
   "metadata": {},
   "outputs": [
    {
     "data": {
      "text/html": [
       "<div>\n",
       "<style scoped>\n",
       "    .dataframe tbody tr th:only-of-type {\n",
       "        vertical-align: middle;\n",
       "    }\n",
       "\n",
       "    .dataframe tbody tr th {\n",
       "        vertical-align: top;\n",
       "    }\n",
       "\n",
       "    .dataframe thead th {\n",
       "        text-align: right;\n",
       "    }\n",
       "</style>\n",
       "<table border=\"1\" class=\"dataframe\">\n",
       "  <thead>\n",
       "    <tr style=\"text-align: right;\">\n",
       "      <th></th>\n",
       "      <th>model</th>\n",
       "      <th>macro</th>\n",
       "      <th>micro</th>\n",
       "      <th>weighted</th>\n",
       "    </tr>\n",
       "  </thead>\n",
       "  <tbody>\n",
       "    <tr>\n",
       "      <th>0</th>\n",
       "      <td>KNN</td>\n",
       "      <td>0.699</td>\n",
       "      <td>0.733</td>\n",
       "      <td>0.729</td>\n",
       "    </tr>\n",
       "    <tr>\n",
       "      <th>0</th>\n",
       "      <td>LDA</td>\n",
       "      <td>0.811</td>\n",
       "      <td>0.833</td>\n",
       "      <td>0.839</td>\n",
       "    </tr>\n",
       "    <tr>\n",
       "      <th>0</th>\n",
       "      <td>LR</td>\n",
       "      <td>0.825</td>\n",
       "      <td>0.844</td>\n",
       "      <td>0.844</td>\n",
       "    </tr>\n",
       "  </tbody>\n",
       "</table>\n",
       "</div>"
      ],
      "text/plain": [
       "  model  macro  micro  weighted\n",
       "0   KNN  0.699  0.733     0.729\n",
       "0   LDA  0.811  0.833     0.839\n",
       "0    LR  0.825  0.844     0.844"
      ]
     },
     "execution_count": 865,
     "metadata": {},
     "output_type": "execute_result"
    }
   ],
   "source": [
    "df_precision"
   ]
  },
  {
   "cell_type": "code",
   "execution_count": 915,
   "id": "1b54c178",
   "metadata": {},
   "outputs": [
    {
     "data": {
      "image/png": "[encoded data removed]",
      "text/plain": [
       "<Figure size 640x480 with 1 Axes>"
      ]
     },
     "metadata": {},
     "output_type": "display_data"
    }
   ],
   "source": [
    "label_1 = 'Precision values'\n",
    "get_plot(df_precision,label_1)"
   ]
  },
  {
   "cell_type": "markdown",
   "id": "02d11397",
   "metadata": {},
   "source": [
    "### Recall"
   ]
  },
  {
   "cell_type": "code",
   "execution_count": 921,
   "id": "bb6ca77c",
   "metadata": {},
   "outputs": [],
   "source": [
    "from sklearn.metrics import recall_score\n",
    "\n",
    "def get_recall_score(y_pred):\n",
    "    recall_score_macro = recall_score(y_valid, y_pred, average='macro')\n",
    "    recall_score_micro = recall_score(y_valid, y_pred, average='micro')\n",
    "    recall_score_weighted = recall_score(y_valid, y_pred, average='weighted')\n",
    "    recall_score_out = toFixed(recall_score_macro, 3),toFixed(recall_score_micro, 3),toFixed(recall_score_weighted, 3)\n",
    "    return recall_score_out"
   ]
  },
  {
   "cell_type": "code",
   "execution_count": 922,
   "id": "ede3bdea",
   "metadata": {},
   "outputs": [],
   "source": [
    "recall_score_knn = get_recall_score(y_predict_knn)\n",
    "recall_score_lda = get_recall_score(y_predict_lda)\n",
    "recall_score_lr = get_recall_score(y_predict_lr)"
   ]
  },
  {
   "cell_type": "code",
   "execution_count": 923,
   "id": "3858f8e4",
   "metadata": {},
   "outputs": [
    {
     "name": "stdout",
     "output_type": "stream",
     "text": [
      "recall score knn  (0.692, 0.733, 0.733)\n",
      "recall score lda  (0.825, 0.833, 0.833)\n",
      "recall score lr  (0.825, 0.844, 0.844)\n"
     ]
    }
   ],
   "source": [
    "print('recall score knn ', recall_score_knn)\n",
    "print('recall score lda ', recall_score_lda)\n",
    "print('recall score lr ', recall_score_lr)"
   ]
  },
  {
   "cell_type": "code",
   "execution_count": 924,
   "id": "692fef05",
   "metadata": {},
   "outputs": [
    {
     "data": {
      "text/html": [
       "<div>\n",
       "<style scoped>\n",
       "    .dataframe tbody tr th:only-of-type {\n",
       "        vertical-align: middle;\n",
       "    }\n",
       "\n",
       "    .dataframe tbody tr th {\n",
       "        vertical-align: top;\n",
       "    }\n",
       "\n",
       "    .dataframe thead th {\n",
       "        text-align: right;\n",
       "    }\n",
       "</style>\n",
       "<table border=\"1\" class=\"dataframe\">\n",
       "  <thead>\n",
       "    <tr style=\"text-align: right;\">\n",
       "      <th></th>\n",
       "      <th>model</th>\n",
       "      <th>macro</th>\n",
       "      <th>micro</th>\n",
       "      <th>weighted</th>\n",
       "    </tr>\n",
       "  </thead>\n",
       "  <tbody>\n",
       "    <tr>\n",
       "      <th>0</th>\n",
       "      <td>KNN</td>\n",
       "      <td>0.692</td>\n",
       "      <td>0.733</td>\n",
       "      <td>0.733</td>\n",
       "    </tr>\n",
       "    <tr>\n",
       "      <th>0</th>\n",
       "      <td>LDA</td>\n",
       "      <td>0.825</td>\n",
       "      <td>0.833</td>\n",
       "      <td>0.833</td>\n",
       "    </tr>\n",
       "    <tr>\n",
       "      <th>0</th>\n",
       "      <td>LR</td>\n",
       "      <td>0.825</td>\n",
       "      <td>0.844</td>\n",
       "      <td>0.844</td>\n",
       "    </tr>\n",
       "  </tbody>\n",
       "</table>\n",
       "</div>"
      ],
      "text/plain": [
       "  model  macro  micro  weighted\n",
       "0   KNN  0.692  0.733     0.733\n",
       "0   LDA  0.825  0.833     0.833\n",
       "0    LR  0.825  0.844     0.844"
      ]
     },
     "execution_count": 924,
     "metadata": {},
     "output_type": "execute_result"
    }
   ],
   "source": [
    "df_recall = get_pd_together(recall_score_knn, recall_score_lda, recall_score_lr)\n",
    "df_recall"
   ]
  },
  {
   "cell_type": "code",
   "execution_count": 925,
   "id": "4aa0507a",
   "metadata": {},
   "outputs": [
    {
     "data": {
      "image/png": "[encoded data removed]",
      "text/plain": [
       "<Figure size 640x480 with 1 Axes>"
      ]
     },
     "metadata": {},
     "output_type": "display_data"
    }
   ],
   "source": [
    "label_2 = 'Recall score'\n",
    "get_plot(df_recall, label_2)"
   ]
  },
  {
   "cell_type": "markdown",
   "id": "2d11cb97",
   "metadata": {},
   "source": [
    "### F1-Score (combination of precision and recall metrics)"
   ]
  },
  {
   "cell_type": "code",
   "execution_count": 878,
   "id": "7738f0a2",
   "metadata": {},
   "outputs": [],
   "source": [
    "from sklearn.metrics import f1_score\n",
    "\n",
    "def get_f1(y_pred):\n",
    "    f1_score_macro = f1_score(y_valid, y_pred, average='macro')\n",
    "    f1_score_micro = f1_score(y_valid, y_pred, average='micro')\n",
    "    f1_score_weighted = f1_score(y_valid, y_pred, average='weighted')\n",
    "    f1_score_out = toFixed(f1_score_macro, 3),toFixed(f1_score_micro, 3), toFixed(f1_score_weighted, 3)\n",
    "    return f1_score_out"
   ]
  },
  {
   "cell_type": "code",
   "execution_count": 879,
   "id": "a75463a2",
   "metadata": {},
   "outputs": [],
   "source": [
    "f1_score_knn = get_f1(y_predict_knn)\n",
    "f1_score_lda = get_f1(y_predict_lda)\n",
    "f1_score_lr = get_f1(y_predict_lr)"
   ]
  },
  {
   "cell_type": "code",
   "execution_count": 880,
   "id": "afaf96fb",
   "metadata": {},
   "outputs": [
    {
     "name": "stdout",
     "output_type": "stream",
     "text": [
      "f1 score knn  (0.695, 0.733, 0.731)\n",
      "f1 score lda  (0.817, 0.833, 0.835)\n",
      "f1 score lr  (0.825, 0.844, 0.844)\n"
     ]
    }
   ],
   "source": [
    "print('f1 score knn ', f1_score_knn)\n",
    "print('f1 score lda ', f1_score_lda)\n",
    "print('f1 score lr ', f1_score_lr)"
   ]
  },
  {
   "cell_type": "code",
   "execution_count": 881,
   "id": "6ab6d0d0",
   "metadata": {},
   "outputs": [
    {
     "data": {
      "text/html": [
       "<div>\n",
       "<style scoped>\n",
       "    .dataframe tbody tr th:only-of-type {\n",
       "        vertical-align: middle;\n",
       "    }\n",
       "\n",
       "    .dataframe tbody tr th {\n",
       "        vertical-align: top;\n",
       "    }\n",
       "\n",
       "    .dataframe thead th {\n",
       "        text-align: right;\n",
       "    }\n",
       "</style>\n",
       "<table border=\"1\" class=\"dataframe\">\n",
       "  <thead>\n",
       "    <tr style=\"text-align: right;\">\n",
       "      <th></th>\n",
       "      <th>model</th>\n",
       "      <th>macro</th>\n",
       "      <th>micro</th>\n",
       "      <th>weighted</th>\n",
       "    </tr>\n",
       "  </thead>\n",
       "  <tbody>\n",
       "    <tr>\n",
       "      <th>0</th>\n",
       "      <td>KNN</td>\n",
       "      <td>0.695</td>\n",
       "      <td>0.733</td>\n",
       "      <td>0.731</td>\n",
       "    </tr>\n",
       "    <tr>\n",
       "      <th>0</th>\n",
       "      <td>LDA</td>\n",
       "      <td>0.817</td>\n",
       "      <td>0.833</td>\n",
       "      <td>0.835</td>\n",
       "    </tr>\n",
       "    <tr>\n",
       "      <th>0</th>\n",
       "      <td>LR</td>\n",
       "      <td>0.825</td>\n",
       "      <td>0.844</td>\n",
       "      <td>0.844</td>\n",
       "    </tr>\n",
       "  </tbody>\n",
       "</table>\n",
       "</div>"
      ],
      "text/plain": [
       "  model  macro  micro  weighted\n",
       "0   KNN  0.695  0.733     0.731\n",
       "0   LDA  0.817  0.833     0.835\n",
       "0    LR  0.825  0.844     0.844"
      ]
     },
     "execution_count": 881,
     "metadata": {},
     "output_type": "execute_result"
    }
   ],
   "source": [
    "df_f1 = get_pd_together(f1_score_knn, f1_score_lda, f1_score_lr)\n",
    "df_f1"
   ]
  },
  {
   "cell_type": "code",
   "execution_count": 917,
   "id": "93295b58",
   "metadata": {},
   "outputs": [
    {
     "data": {
      "image/png": "[encoded data removed]",
      "text/plain": [
       "<Figure size 640x480 with 1 Axes>"
      ]
     },
     "metadata": {},
     "output_type": "display_data"
    }
   ],
   "source": [
    "label_3 = 'F1 score'\n",
    "get_plot(df_f1, label_3)"
   ]
  }
 ],
 "metadata": {
  "kernelspec": {
   "display_name": "Python 3 (ipykernel)",
   "language": "python",
   "name": "python3"
  },
  "language_info": {
   "codemirror_mode": {
    "name": "ipython",
    "version": 3
   },
   "file_extension": ".py",
   "mimetype": "text/x-python",
   "name": "python",
   "nbconvert_exporter": "python",
   "pygments_lexer": "ipython3",
   "version": "3.10.1"
  },
  "vscode": {
   "interpreter": {
    "hash": "9b51932b85eb61d61256980453aff19f4b3fb51a4f18cfee8210c742a88c8ee3"
   }
  }
 },
 "nbformat": 4,
 "nbformat_minor": 5
}
