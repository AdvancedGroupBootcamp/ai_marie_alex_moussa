{
 "cells": [
  {
   "cell_type": "markdown",
   "metadata": {},
   "source": [
    "## Package required"
   ]
  },
  {
   "cell_type": "code",
   "execution_count": 922,
   "metadata": {},
   "outputs": [],
   "source": [
    "from warnings import filterwarnings\n",
    "\n",
    "filterwarnings(\"ignore\")"
   ]
  },
  {
   "cell_type": "code",
   "execution_count": 923,
   "metadata": {},
   "outputs": [],
   "source": [
    "import matplotlib.pyplot as plt\n",
    "from sklearn import metrics\n",
    "from sklearn.model_selection import cross_val_score,StratifiedKFold\n",
    "from sklearn.feature_selection import SelectKBest\n",
    "from sklearn.preprocessing import StandardScaler\n",
    "from sklearn import tree\n",
    "import numpy as np\n",
    "\n",
    "\n",
    "\n",
    "from sklearn.linear_model import LogisticRegression\n",
    "from sklearn.discriminant_analysis import LinearDiscriminantAnalysis\n",
    "from sklearn.tree import DecisionTreeClassifier\n",
    "from sklearn.neighbors import KNeighborsClassifier\n",
    "from sklearn.naive_bayes import GaussianNB"
   ]
  },
  {
   "cell_type": "code",
   "execution_count": 924,
   "metadata": {},
   "outputs": [],
   "source": [
    "X_train=pd.read_table(\"ada_train.data\",delim_whitespace=True,header=None)\n",
    "X_valid=pd.read_table(\"ada_valid.data\",delim_whitespace=True,header=None)\n",
    "X_test=pd.read_table(\"ada_test.data\",delim_whitespace=True,header=None)\n",
    "\n",
    "\n",
    "y_train=pd.read_table(\"ada_train.labels\",delim_whitespace=True,header=None)\n",
    "y_valid=pd.read_table(\"ada_valid.labels\",delim_whitespace=True,header=None)\n",
    "\n",
    "\n",
    "Column_train={\"X\"+str(i):X_train.iloc[:,i-1] for i in range(1,X_train.shape[1]+1)}\n",
    "Column_valid={\"X\"+str(i):X_valid.iloc[:,i-1] for i in range(1,X_valid.shape[1]+1)}\n",
    "Column_test={\"X\"+str(i):X_test.iloc[:,i-1] for i in range(1,X_test.shape[1]+1)}\n"
   ]
  },
  {
   "cell_type": "code",
   "execution_count": 925,
   "metadata": {},
   "outputs": [],
   "source": [
    "ada_train_data=pd.DataFrame(Column_train)\n",
    "ada_valid_data=pd.DataFrame(Column_valid)\n",
    "ada_test_data=pd.DataFrame(Column_test)\n",
    "\n",
    "ada_train_label=pd.DataFrame({\"target\":y_train.iloc[:,0]})\n",
    "ada_valid_label=pd.DataFrame({\"target\":y_valid.iloc[:,0]})"
   ]
  },
  {
   "cell_type": "code",
   "execution_count": 926,
   "metadata": {},
   "outputs": [
    {
     "data": {
      "text/plain": [
       "((4147, 48), (415, 48), (41471, 48))"
      ]
     },
     "execution_count": 926,
     "metadata": {},
     "output_type": "execute_result"
    }
   ],
   "source": [
    "ada_train_data.shape,ada_valid_data.shape,ada_test_data.shape"
   ]
  },
  {
   "cell_type": "code",
   "execution_count": 927,
   "metadata": {},
   "outputs": [
    {
     "data": {
      "text/plain": [
       "((4147, 1), (415, 1))"
      ]
     },
     "execution_count": 927,
     "metadata": {},
     "output_type": "execute_result"
    }
   ],
   "source": [
    "ada_train_label.shape,ada_valid_label.shape"
   ]
  },
  {
   "cell_type": "code",
   "execution_count": 928,
   "metadata": {},
   "outputs": [
    {
     "data": {
      "text/plain": [
       "(0, 0, 0)"
      ]
     },
     "execution_count": 928,
     "metadata": {},
     "output_type": "execute_result"
    }
   ],
   "source": [
    "### Check for NaN\n",
    "\n",
    "ada_train_data.isna().any().sum(),ada_valid_data.isna().any().sum(),ada_test_data.isna().any().sum()"
   ]
  },
  {
   "cell_type": "markdown",
   "metadata": {},
   "source": [
    "There are no NaN values in our data"
   ]
  },
  {
   "cell_type": "code",
   "execution_count": 929,
   "metadata": {},
   "outputs": [],
   "source": [
    "### Data types\n",
    "\n",
    "numerical_cols=ada_train_data.columns[ada_train_data.nunique()>2]\n",
    "categorical_cols=ada_train_data.columns[ada_train_data.nunique()<=2]"
   ]
  },
  {
   "cell_type": "code",
   "execution_count": 930,
   "metadata": {},
   "outputs": [
    {
     "data": {
      "text/html": [
       "<div>\n",
       "<style scoped>\n",
       "    .dataframe tbody tr th:only-of-type {\n",
       "        vertical-align: middle;\n",
       "    }\n",
       "\n",
       "    .dataframe tbody tr th {\n",
       "        vertical-align: top;\n",
       "    }\n",
       "\n",
       "    .dataframe thead th {\n",
       "        text-align: right;\n",
       "    }\n",
       "</style>\n",
       "<table border=\"1\" class=\"dataframe\">\n",
       "  <thead>\n",
       "    <tr style=\"text-align: right;\">\n",
       "      <th></th>\n",
       "      <th>X4</th>\n",
       "      <th>X10</th>\n",
       "      <th>X15</th>\n",
       "      <th>X25</th>\n",
       "      <th>X32</th>\n",
       "      <th>X40</th>\n",
       "    </tr>\n",
       "  </thead>\n",
       "  <tbody>\n",
       "    <tr>\n",
       "      <th>count</th>\n",
       "      <td>4147.000000</td>\n",
       "      <td>4147.000000</td>\n",
       "      <td>4147.000000</td>\n",
       "      <td>4147.000000</td>\n",
       "      <td>4147.000000</td>\n",
       "      <td>4147.000000</td>\n",
       "    </tr>\n",
       "    <tr>\n",
       "      <th>mean</th>\n",
       "      <td>126.408006</td>\n",
       "      <td>20.033036</td>\n",
       "      <td>631.886665</td>\n",
       "      <td>429.348686</td>\n",
       "      <td>10.964070</td>\n",
       "      <td>411.804196</td>\n",
       "    </tr>\n",
       "    <tr>\n",
       "      <th>std</th>\n",
       "      <td>69.754074</td>\n",
       "      <td>91.933304</td>\n",
       "      <td>161.410107</td>\n",
       "      <td>146.029831</td>\n",
       "      <td>76.318757</td>\n",
       "      <td>119.999993</td>\n",
       "    </tr>\n",
       "    <tr>\n",
       "      <th>min</th>\n",
       "      <td>13.000000</td>\n",
       "      <td>0.000000</td>\n",
       "      <td>62.000000</td>\n",
       "      <td>189.000000</td>\n",
       "      <td>0.000000</td>\n",
       "      <td>10.000000</td>\n",
       "    </tr>\n",
       "    <tr>\n",
       "      <th>25%</th>\n",
       "      <td>78.500000</td>\n",
       "      <td>0.000000</td>\n",
       "      <td>562.000000</td>\n",
       "      <td>311.000000</td>\n",
       "      <td>0.000000</td>\n",
       "      <td>404.000000</td>\n",
       "    </tr>\n",
       "    <tr>\n",
       "      <th>50%</th>\n",
       "      <td>119.000000</td>\n",
       "      <td>0.000000</td>\n",
       "      <td>624.000000</td>\n",
       "      <td>411.000000</td>\n",
       "      <td>0.000000</td>\n",
       "      <td>404.000000</td>\n",
       "    </tr>\n",
       "    <tr>\n",
       "      <th>75%</th>\n",
       "      <td>160.000000</td>\n",
       "      <td>0.000000</td>\n",
       "      <td>812.000000</td>\n",
       "      <td>522.000000</td>\n",
       "      <td>0.000000</td>\n",
       "      <td>454.000000</td>\n",
       "    </tr>\n",
       "    <tr>\n",
       "      <th>max</th>\n",
       "      <td>995.000000</td>\n",
       "      <td>648.000000</td>\n",
       "      <td>999.000000</td>\n",
       "      <td>999.000000</td>\n",
       "      <td>999.000000</td>\n",
       "      <td>999.000000</td>\n",
       "    </tr>\n",
       "  </tbody>\n",
       "</table>\n",
       "</div>"
      ],
      "text/plain": [
       "                X4          X10          X15          X25          X32  \\\n",
       "count  4147.000000  4147.000000  4147.000000  4147.000000  4147.000000   \n",
       "mean    126.408006    20.033036   631.886665   429.348686    10.964070   \n",
       "std      69.754074    91.933304   161.410107   146.029831    76.318757   \n",
       "min      13.000000     0.000000    62.000000   189.000000     0.000000   \n",
       "25%      78.500000     0.000000   562.000000   311.000000     0.000000   \n",
       "50%     119.000000     0.000000   624.000000   411.000000     0.000000   \n",
       "75%     160.000000     0.000000   812.000000   522.000000     0.000000   \n",
       "max     995.000000   648.000000   999.000000   999.000000   999.000000   \n",
       "\n",
       "               X40  \n",
       "count  4147.000000  \n",
       "mean    411.804196  \n",
       "std     119.999993  \n",
       "min      10.000000  \n",
       "25%     404.000000  \n",
       "50%     404.000000  \n",
       "75%     454.000000  \n",
       "max     999.000000  "
      ]
     },
     "execution_count": 930,
     "metadata": {},
     "output_type": "execute_result"
    }
   ],
   "source": [
    "### Get descriptive statistics from numerical data\n",
    "\n",
    "ada_train_data[numerical_cols].describe()"
   ]
  },
  {
   "cell_type": "code",
   "execution_count": 931,
   "metadata": {},
   "outputs": [
    {
     "data": {
      "text/plain": [
       "<AxesSubplot: >"
      ]
     },
     "execution_count": 931,
     "metadata": {},
     "output_type": "execute_result"
    },
    {
     "data": {
      "image/png": "[encoded data removed]",
      "text/plain": [
       "<Figure size 640x480 with 1 Axes>"
      ]
     },
     "metadata": {},
     "output_type": "display_data"
    }
   ],
   "source": [
    "ada_train_data[numerical_cols].plot(kind=\"box\")"
   ]
  },
  {
   "cell_type": "markdown",
   "metadata": {},
   "source": [
    "Evidently we are facing "
   ]
  },
  {
   "cell_type": "code",
   "execution_count": 932,
   "metadata": {},
   "outputs": [
    {
     "data": {
      "image/png": "[encoded data removed]",
      "text/plain": [
       "<Figure size 1600x600 with 2 Axes>"
      ]
     },
     "metadata": {},
     "output_type": "display_data"
    }
   ],
   "source": [
    "fig,axs=plt.subplots(ncols=2,figsize=(16,6))\n",
    "\n",
    "axs[0].boxplot(ada_test_data[numerical_cols[0]])\n",
    "axs[1].boxplot(ada_test_data[numerical_cols[1]])\n",
    "plt.show()"
   ]
  },
  {
   "cell_type": "code",
   "execution_count": 933,
   "metadata": {},
   "outputs": [
    {
     "data": {
      "image/png": "[encoded data removed]",
      "text/plain": [
       "<Figure size 1600x600 with 2 Axes>"
      ]
     },
     "metadata": {},
     "output_type": "display_data"
    }
   ],
   "source": [
    "fig,axs=plt.subplots(ncols=2,figsize=(16,6))\n",
    "\n",
    "axs[0].boxplot(ada_test_data[numerical_cols[2]])\n",
    "axs[1].boxplot(ada_test_data[numerical_cols[3]])\n",
    "plt.show()"
   ]
  },
  {
   "cell_type": "code",
   "execution_count": 934,
   "metadata": {},
   "outputs": [
    {
     "data": {
      "image/png": "[encoded data removed]",
      "text/plain": [
       "<Figure size 1600x600 with 2 Axes>"
      ]
     },
     "metadata": {},
     "output_type": "display_data"
    }
   ],
   "source": [
    "fig,axs=plt.subplots(ncols=2,figsize=(16,6))\n",
    "\n",
    "axs[0].boxplot(ada_test_data[numerical_cols[4]])\n",
    "axs[1].boxplot(ada_test_data[numerical_cols[5]])\n",
    "plt.show()"
   ]
  },
  {
   "cell_type": "markdown",
   "metadata": {},
   "source": [
    "### Outlier handling\n",
    "\n",
    "According to the expert of data, outliers is the bigest problem that can introduce biais in analysis and hide generally tendancy most of time especially when data size is small.\n",
    "\n",
    "There many scenarios that can worthy and very bad but there not pre-defined strategies to get directly the best strategies to handle outliers. Even if, we have this problem; according to problematic some strategies will be more useful than others.\n",
    "\n",
    "- Filtered test data set to avoid outliers\n",
    "- "
   ]
  },
  {
   "cell_type": "code",
   "execution_count": 935,
   "metadata": {},
   "outputs": [
    {
     "data": {
      "text/plain": [
       "(330, 1)"
      ]
     },
     "execution_count": 935,
     "metadata": {},
     "output_type": "execute_result"
    }
   ],
   "source": [
    "ada_train_data.nunique().max(),ada_train_data.nunique().min()"
   ]
  },
  {
   "cell_type": "code",
   "execution_count": 936,
   "metadata": {},
   "outputs": [
    {
     "data": {
      "text/plain": [
       "(array([0]), array([0]), array([0]))"
      ]
     },
     "execution_count": 936,
     "metadata": {},
     "output_type": "execute_result"
    }
   ],
   "source": [
    "ada_train_data.X21.unique(),ada_valid_data.X21.unique(),ada_test_data.X21.unique()"
   ]
  },
  {
   "cell_type": "code",
   "execution_count": 937,
   "metadata": {},
   "outputs": [],
   "source": [
    "#The column contains just a unique value then it's not useful for discrimination\n",
    "\n",
    "ada_train_data=ada_train_data.drop(columns=['X21'])\n",
    "ada_valid_data=ada_valid_data.drop(columns=['X21'])\n",
    "ada_test_data=ada_test_data.drop(columns=['X21'])"
   ]
  },
  {
   "cell_type": "code",
   "execution_count": 938,
   "metadata": {},
   "outputs": [],
   "source": [
    "def get_percentage_of_outlier(df):\n",
    "\n",
    "    numerical_cols=df.columns[df.nunique()>2]\n",
    "    \n",
    "    n=df.shape[0]\n",
    "\n",
    "    outlier_size={}\n",
    " \n",
    "    for col in numerical_cols:\n",
    "\n",
    "        q1=df[col].quantile(0.25)\n",
    "        q3=df[col].quantile(0.75)\n",
    "        IQR=q3-q1\n",
    "\n",
    "        outliers_shape=df[(df[col]<q1-1.5*IQR)].shape[0] + df[(df[col]>q3+1.5*IQR)].shape[0]\n",
    "\n",
    "        outlier_size[col]=outliers_shape\n",
    "\n",
    "    return outlier_size"
   ]
  },
  {
   "cell_type": "code",
   "execution_count": 939,
   "metadata": {},
   "outputs": [
    {
     "data": {
      "text/plain": [
       "{'X4': 98, 'X10': 193, 'X15': 25, 'X25': 24, 'X32': 336, 'X40': 1108}"
      ]
     },
     "execution_count": 939,
     "metadata": {},
     "output_type": "execute_result"
    }
   ],
   "source": [
    "get_percentage_of_outlier(ada_train_data)"
   ]
  },
  {
   "cell_type": "markdown",
   "metadata": {},
   "source": [
    "### Modelisation"
   ]
  },
  {
   "cell_type": "code",
   "execution_count": 940,
   "metadata": {},
   "outputs": [],
   "source": [
    "Classifiers=[KNeighborsClassifier,\n",
    "             LogisticRegression,\n",
    "             DecisionTreeClassifier,\n",
    "             GaussianNB,\n",
    "             LinearDiscriminantAnalysis]"
   ]
  },
  {
   "cell_type": "code",
   "execution_count": 941,
   "metadata": {},
   "outputs": [
    {
     "data": {
      "text/plain": [
       "((4147, 47), (4147, 1))"
      ]
     },
     "execution_count": 941,
     "metadata": {},
     "output_type": "execute_result"
    }
   ],
   "source": [
    "ada_train_data.shape,ada_train_label.shape"
   ]
  },
  {
   "cell_type": "markdown",
   "metadata": {},
   "source": [
    "#### Before outlier handling"
   ]
  },
  {
   "cell_type": "code",
   "execution_count": 942,
   "metadata": {},
   "outputs": [],
   "source": [
    "### Data Normalisation\n",
    "\n",
    "def normalize_num_cols(df):\n",
    "\n",
    "    df_standard=df.copy()\n",
    "\n",
    "    standardizing=StandardScaler()\n",
    "    \n",
    "    numerical_cols=df.columns[df.nunique()>2]\n",
    "\n",
    "    standar_col_num=standardizing.fit_transform(df[numerical_cols])\n",
    "\n",
    "    df_standard[numerical_cols]=standar_col_num\n",
    "\n",
    "    return df_standard"
   ]
  },
  {
   "cell_type": "code",
   "execution_count": 943,
   "metadata": {},
   "outputs": [],
   "source": [
    "def get_accuray(train_set,train_label,valid_set,valid_label,cv=50):\n",
    "\n",
    "    col=[\"Name\",\"Accuracy_mean\",\"BER_mean\",\"ROC_mean\",\"Accuracy_std\",\"BER_std\",\"ROC_std\"]\n",
    "    df=pd.DataFrame(columns=col)\n",
    "    for classifier in Classifiers:\n",
    "        Name=classifier.__name__\n",
    "        model=classifier().fit(train_set,train_label)\n",
    "        y_pred=model.predict(valid_set)\n",
    "        acc=np.mean(cross_val_score(model,train_set,train_label,scoring=\"accuracy\",cv=cv))\n",
    "        BER=np.mean(cross_val_score(model,train_set,train_label,scoring=\"balanced_accuracy\",cv=cv))\n",
    "        ROC=np.mean(cross_val_score(model,train_set,train_label,scoring=\"roc_auc\",cv=cv))\n",
    "\n",
    "        acc_std=np.std(cross_val_score(model,train_set,train_label,scoring=\"accuracy\",cv=cv))\n",
    "        BER_std=np.std(cross_val_score(model,train_set,train_label,scoring=\"balanced_accuracy\",cv=cv))\n",
    "        ROC_std=np.std(cross_val_score(model,train_set,train_label,scoring=\"roc_auc\",cv=cv))\n",
    "        #acc=metrics.accuracy_score(valid_label,y_pred)\n",
    "        #BER=metrics.balanced_accuracy_score(valid_label,y_pred)\n",
    "        #ROC=metrics.roc_auc_score(valid_label,y_pred)\n",
    "\n",
    "        df1=pd.DataFrame([[Name,acc,BER,ROC,acc_std,BER_std,ROC_std]],columns=col)\n",
    "        df=df.append(df1)\n",
    "\n",
    "    return df"
   ]
  },
  {
   "cell_type": "code",
   "execution_count": 944,
   "metadata": {},
   "outputs": [],
   "source": [
    "accuracy_df=get_accuray(ada_train_data,ada_train_label,ada_valid_data,ada_valid_label)"
   ]
  },
  {
   "cell_type": "code",
   "execution_count": 945,
   "metadata": {},
   "outputs": [],
   "source": [
    "### For normalized data\n",
    "\n",
    "ada_train_data_standard=normalize_num_cols(ada_train_data)\n",
    "ada_valid_data_standard=normalize_num_cols(ada_valid_data)\n",
    "\n",
    "accuracy_df_stand=get_accuray(ada_train_data_standard,ada_train_label,ada_valid_data_standard,ada_valid_label)"
   ]
  },
  {
   "cell_type": "markdown",
   "metadata": {},
   "source": [
    "#### After handling"
   ]
  },
  {
   "cell_type": "code",
   "execution_count": 946,
   "metadata": {},
   "outputs": [],
   "source": [
    "from sklearn.impute import KNNImputer\n",
    "\n",
    "def replace_outlier(x,min_whisker,max_whisker):\n",
    "\n",
    "    if x<min_whisker or x>max_whisker:\n",
    "\n",
    "        x=np.NaN\n",
    "    \n",
    "    return x\n",
    "\n",
    "\n",
    "def fill_outlier(df_ada,method):\n",
    "\n",
    "    numerical_cols=df_ada.columns[df_ada.nunique()>2]\n",
    " \n",
    "    for col in numerical_cols:\n",
    "\n",
    "        q1=df_ada[col].quantile(0.25)\n",
    "        \n",
    "        q3=df_ada[col].quantile(0.75)\n",
    "\n",
    "        IQR=q3-q1\n",
    "\n",
    "        min_whisker=q1-1.5*IQR\n",
    "        max_whisker=q3+1.5*IQR\n",
    "\n",
    "        df_ada[col]=df_ada[col].apply(lambda x: replace_outlier(x,min_whisker,max_whisker))\n",
    "\n",
    "    if method==\"mean\":\n",
    "            \n",
    "        df_ada=df_ada.fillna(df_ada.mean())\n",
    "        \n",
    "    if method==\"knn\":\n",
    "            \n",
    "        imputer = KNNImputer(n_neighbors=5, weights='uniform', metric='nan_euclidean')\n",
    "\n",
    "        df_ada[numerical_cols]=imputer.fit_transform(df_ada[numerical_cols])\n",
    "    \n",
    "    return df_ada"
   ]
  },
  {
   "cell_type": "code",
   "execution_count": 947,
   "metadata": {},
   "outputs": [],
   "source": [
    "ada_train_data=fill_outlier(ada_train_data,method=\"knn\")\n",
    "ada_valid_data=fill_outlier(ada_valid_data,method=\"knn\")\n",
    "\n",
    "accuracy_df_outlier_trim=get_accuray(ada_train_data,ada_train_label,ada_valid_data,ada_valid_label)"
   ]
  },
  {
   "cell_type": "code",
   "execution_count": 948,
   "metadata": {},
   "outputs": [],
   "source": [
    "ada_train_data_standard=normalize_num_cols(ada_train_data)\n",
    "ada_valid_data_standard=normalize_num_cols(ada_valid_data)\n",
    "\n",
    "accuracy_df_outlier_trim_stand=get_accuray(ada_train_data_standard,ada_train_label,ada_valid_data_standard,ada_valid_label)"
   ]
  },
  {
   "cell_type": "code",
   "execution_count": 949,
   "metadata": {},
   "outputs": [],
   "source": [
    "accuracy_df[\"data\"]=\"raw\"\n",
    "accuracy_df_stand[\"data\"]=\"raw_standard\"\n",
    "accuracy_df_outlier_trim[\"data\"]=\"outlier_trimmed by mean\"\n",
    "accuracy_df_outlier_trim_stand[\"data\"]=\"outlier_trimmed by mean and standard\"\n",
    "\n",
    "accuracies=[accuracy_df,accuracy_df_stand,accuracy_df_outlier_trim,accuracy_df_outlier_trim_stand]\n",
    "\n",
    "accuracies_df=pd.concat(accuracies)"
   ]
  },
  {
   "cell_type": "code",
   "execution_count": 974,
   "metadata": {},
   "outputs": [
    {
     "data": {
      "text/html": [
       "<div>\n",
       "<style scoped>\n",
       "    .dataframe tbody tr th:only-of-type {\n",
       "        vertical-align: middle;\n",
       "    }\n",
       "\n",
       "    .dataframe tbody tr th {\n",
       "        vertical-align: top;\n",
       "    }\n",
       "\n",
       "    .dataframe thead th {\n",
       "        text-align: right;\n",
       "    }\n",
       "</style>\n",
       "<table border=\"1\" class=\"dataframe\">\n",
       "  <thead>\n",
       "    <tr style=\"text-align: right;\">\n",
       "      <th></th>\n",
       "      <th>Name</th>\n",
       "      <th>Accuracy_mean</th>\n",
       "      <th>BER_mean</th>\n",
       "      <th>ROC_mean</th>\n",
       "      <th>Accuracy_std</th>\n",
       "      <th>BER_std</th>\n",
       "      <th>ROC_std</th>\n",
       "      <th>data</th>\n",
       "    </tr>\n",
       "  </thead>\n",
       "  <tbody>\n",
       "    <tr>\n",
       "      <th>0</th>\n",
       "      <td>LogisticRegression</td>\n",
       "      <td>0.848816</td>\n",
       "      <td>0.769276</td>\n",
       "      <td>0.907785</td>\n",
       "      <td>0.035495</td>\n",
       "      <td>0.058109</td>\n",
       "      <td>0.037259</td>\n",
       "      <td>raw_standard</td>\n",
       "    </tr>\n",
       "    <tr>\n",
       "      <th>0</th>\n",
       "      <td>LinearDiscriminantAnalysis</td>\n",
       "      <td>0.843744</td>\n",
       "      <td>0.770718</td>\n",
       "      <td>0.896773</td>\n",
       "      <td>0.038859</td>\n",
       "      <td>0.059454</td>\n",
       "      <td>0.038917</td>\n",
       "      <td>raw</td>\n",
       "    </tr>\n",
       "    <tr>\n",
       "      <th>0</th>\n",
       "      <td>LinearDiscriminantAnalysis</td>\n",
       "      <td>0.843744</td>\n",
       "      <td>0.770718</td>\n",
       "      <td>0.896773</td>\n",
       "      <td>0.038859</td>\n",
       "      <td>0.059454</td>\n",
       "      <td>0.038917</td>\n",
       "      <td>raw_standard</td>\n",
       "    </tr>\n",
       "    <tr>\n",
       "      <th>0</th>\n",
       "      <td>KNeighborsClassifier</td>\n",
       "      <td>0.835069</td>\n",
       "      <td>0.770662</td>\n",
       "      <td>0.865512</td>\n",
       "      <td>0.034882</td>\n",
       "      <td>0.049328</td>\n",
       "      <td>0.038802</td>\n",
       "      <td>raw_standard</td>\n",
       "    </tr>\n",
       "    <tr>\n",
       "      <th>0</th>\n",
       "      <td>LinearDiscriminantAnalysis</td>\n",
       "      <td>0.835066</td>\n",
       "      <td>0.758727</td>\n",
       "      <td>0.882846</td>\n",
       "      <td>0.039611</td>\n",
       "      <td>0.054877</td>\n",
       "      <td>0.041406</td>\n",
       "      <td>outlier_trimmed by mean and standard</td>\n",
       "    </tr>\n",
       "    <tr>\n",
       "      <th>0</th>\n",
       "      <td>LinearDiscriminantAnalysis</td>\n",
       "      <td>0.835066</td>\n",
       "      <td>0.758727</td>\n",
       "      <td>0.882846</td>\n",
       "      <td>0.039611</td>\n",
       "      <td>0.054877</td>\n",
       "      <td>0.041406</td>\n",
       "      <td>outlier_trimmed by mean</td>\n",
       "    </tr>\n",
       "    <tr>\n",
       "      <th>0</th>\n",
       "      <td>LogisticRegression</td>\n",
       "      <td>0.833864</td>\n",
       "      <td>0.746569</td>\n",
       "      <td>0.886386</td>\n",
       "      <td>0.038389</td>\n",
       "      <td>0.054891</td>\n",
       "      <td>0.039575</td>\n",
       "      <td>outlier_trimmed by mean and standard</td>\n",
       "    </tr>\n",
       "    <tr>\n",
       "      <th>0</th>\n",
       "      <td>LogisticRegression</td>\n",
       "      <td>0.831699</td>\n",
       "      <td>0.748389</td>\n",
       "      <td>0.882397</td>\n",
       "      <td>0.037602</td>\n",
       "      <td>0.056776</td>\n",
       "      <td>0.044011</td>\n",
       "      <td>raw</td>\n",
       "    </tr>\n",
       "    <tr>\n",
       "      <th>0</th>\n",
       "      <td>LogisticRegression</td>\n",
       "      <td>0.829518</td>\n",
       "      <td>0.740042</td>\n",
       "      <td>0.874568</td>\n",
       "      <td>0.034999</td>\n",
       "      <td>0.052856</td>\n",
       "      <td>0.042384</td>\n",
       "      <td>outlier_trimmed by mean</td>\n",
       "    </tr>\n",
       "    <tr>\n",
       "      <th>0</th>\n",
       "      <td>KNeighborsClassifier</td>\n",
       "      <td>0.815783</td>\n",
       "      <td>0.749339</td>\n",
       "      <td>0.843623</td>\n",
       "      <td>0.041793</td>\n",
       "      <td>0.052984</td>\n",
       "      <td>0.049040</td>\n",
       "      <td>outlier_trimmed by mean and standard</td>\n",
       "    </tr>\n",
       "    <tr>\n",
       "      <th>0</th>\n",
       "      <td>DecisionTreeClassifier</td>\n",
       "      <td>0.805143</td>\n",
       "      <td>0.741302</td>\n",
       "      <td>0.738821</td>\n",
       "      <td>0.042369</td>\n",
       "      <td>0.053600</td>\n",
       "      <td>0.052681</td>\n",
       "      <td>raw_standard</td>\n",
       "    </tr>\n",
       "    <tr>\n",
       "      <th>0</th>\n",
       "      <td>DecisionTreeClassifier</td>\n",
       "      <td>0.802001</td>\n",
       "      <td>0.742387</td>\n",
       "      <td>0.741041</td>\n",
       "      <td>0.042697</td>\n",
       "      <td>0.052512</td>\n",
       "      <td>0.052891</td>\n",
       "      <td>raw</td>\n",
       "    </tr>\n",
       "    <tr>\n",
       "      <th>0</th>\n",
       "      <td>KNeighborsClassifier</td>\n",
       "      <td>0.788548</td>\n",
       "      <td>0.676952</td>\n",
       "      <td>0.775859</td>\n",
       "      <td>0.042466</td>\n",
       "      <td>0.055024</td>\n",
       "      <td>0.067667</td>\n",
       "      <td>raw</td>\n",
       "    </tr>\n",
       "    <tr>\n",
       "      <th>0</th>\n",
       "      <td>DecisionTreeClassifier</td>\n",
       "      <td>0.777408</td>\n",
       "      <td>0.695632</td>\n",
       "      <td>0.700598</td>\n",
       "      <td>0.045296</td>\n",
       "      <td>0.055067</td>\n",
       "      <td>0.058065</td>\n",
       "      <td>outlier_trimmed by mean and standard</td>\n",
       "    </tr>\n",
       "    <tr>\n",
       "      <th>0</th>\n",
       "      <td>GaussianNB</td>\n",
       "      <td>0.773324</td>\n",
       "      <td>0.799246</td>\n",
       "      <td>0.875594</td>\n",
       "      <td>0.044051</td>\n",
       "      <td>0.043095</td>\n",
       "      <td>0.045266</td>\n",
       "      <td>raw</td>\n",
       "    </tr>\n",
       "    <tr>\n",
       "      <th>0</th>\n",
       "      <td>DecisionTreeClassifier</td>\n",
       "      <td>0.771381</td>\n",
       "      <td>0.700344</td>\n",
       "      <td>0.698442</td>\n",
       "      <td>0.042805</td>\n",
       "      <td>0.061326</td>\n",
       "      <td>0.049804</td>\n",
       "      <td>outlier_trimmed by mean</td>\n",
       "    </tr>\n",
       "    <tr>\n",
       "      <th>0</th>\n",
       "      <td>KNeighborsClassifier</td>\n",
       "      <td>0.761784</td>\n",
       "      <td>0.635981</td>\n",
       "      <td>0.726978</td>\n",
       "      <td>0.040019</td>\n",
       "      <td>0.056535</td>\n",
       "      <td>0.061567</td>\n",
       "      <td>outlier_trimmed by mean</td>\n",
       "    </tr>\n",
       "    <tr>\n",
       "      <th>0</th>\n",
       "      <td>GaussianNB</td>\n",
       "      <td>0.754520</td>\n",
       "      <td>0.781471</td>\n",
       "      <td>0.849307</td>\n",
       "      <td>0.046760</td>\n",
       "      <td>0.048882</td>\n",
       "      <td>0.049466</td>\n",
       "      <td>outlier_trimmed by mean</td>\n",
       "    </tr>\n",
       "    <tr>\n",
       "      <th>0</th>\n",
       "      <td>GaussianNB</td>\n",
       "      <td>0.734508</td>\n",
       "      <td>0.791993</td>\n",
       "      <td>0.874911</td>\n",
       "      <td>0.049496</td>\n",
       "      <td>0.046691</td>\n",
       "      <td>0.045471</td>\n",
       "      <td>raw_standard</td>\n",
       "    </tr>\n",
       "    <tr>\n",
       "      <th>0</th>\n",
       "      <td>GaussianNB</td>\n",
       "      <td>0.693279</td>\n",
       "      <td>0.762033</td>\n",
       "      <td>0.849183</td>\n",
       "      <td>0.049607</td>\n",
       "      <td>0.048100</td>\n",
       "      <td>0.049371</td>\n",
       "      <td>outlier_trimmed by mean and standard</td>\n",
       "    </tr>\n",
       "  </tbody>\n",
       "</table>\n",
       "</div>"
      ],
      "text/plain": [
       "                         Name  Accuracy_mean  BER_mean  ROC_mean  \\\n",
       "0          LogisticRegression       0.848816  0.769276  0.907785   \n",
       "0  LinearDiscriminantAnalysis       0.843744  0.770718  0.896773   \n",
       "0  LinearDiscriminantAnalysis       0.843744  0.770718  0.896773   \n",
       "0        KNeighborsClassifier       0.835069  0.770662  0.865512   \n",
       "0  LinearDiscriminantAnalysis       0.835066  0.758727  0.882846   \n",
       "0  LinearDiscriminantAnalysis       0.835066  0.758727  0.882846   \n",
       "0          LogisticRegression       0.833864  0.746569  0.886386   \n",
       "0          LogisticRegression       0.831699  0.748389  0.882397   \n",
       "0          LogisticRegression       0.829518  0.740042  0.874568   \n",
       "0        KNeighborsClassifier       0.815783  0.749339  0.843623   \n",
       "0      DecisionTreeClassifier       0.805143  0.741302  0.738821   \n",
       "0      DecisionTreeClassifier       0.802001  0.742387  0.741041   \n",
       "0        KNeighborsClassifier       0.788548  0.676952  0.775859   \n",
       "0      DecisionTreeClassifier       0.777408  0.695632  0.700598   \n",
       "0                  GaussianNB       0.773324  0.799246  0.875594   \n",
       "0      DecisionTreeClassifier       0.771381  0.700344  0.698442   \n",
       "0        KNeighborsClassifier       0.761784  0.635981  0.726978   \n",
       "0                  GaussianNB       0.754520  0.781471  0.849307   \n",
       "0                  GaussianNB       0.734508  0.791993  0.874911   \n",
       "0                  GaussianNB       0.693279  0.762033  0.849183   \n",
       "\n",
       "   Accuracy_std   BER_std   ROC_std                                  data  \n",
       "0      0.035495  0.058109  0.037259                          raw_standard  \n",
       "0      0.038859  0.059454  0.038917                                   raw  \n",
       "0      0.038859  0.059454  0.038917                          raw_standard  \n",
       "0      0.034882  0.049328  0.038802                          raw_standard  \n",
       "0      0.039611  0.054877  0.041406  outlier_trimmed by mean and standard  \n",
       "0      0.039611  0.054877  0.041406               outlier_trimmed by mean  \n",
       "0      0.038389  0.054891  0.039575  outlier_trimmed by mean and standard  \n",
       "0      0.037602  0.056776  0.044011                                   raw  \n",
       "0      0.034999  0.052856  0.042384               outlier_trimmed by mean  \n",
       "0      0.041793  0.052984  0.049040  outlier_trimmed by mean and standard  \n",
       "0      0.042369  0.053600  0.052681                          raw_standard  \n",
       "0      0.042697  0.052512  0.052891                                   raw  \n",
       "0      0.042466  0.055024  0.067667                                   raw  \n",
       "0      0.045296  0.055067  0.058065  outlier_trimmed by mean and standard  \n",
       "0      0.044051  0.043095  0.045266                                   raw  \n",
       "0      0.042805  0.061326  0.049804               outlier_trimmed by mean  \n",
       "0      0.040019  0.056535  0.061567               outlier_trimmed by mean  \n",
       "0      0.046760  0.048882  0.049466               outlier_trimmed by mean  \n",
       "0      0.049496  0.046691  0.045471                          raw_standard  \n",
       "0      0.049607  0.048100  0.049371  outlier_trimmed by mean and standard  "
      ]
     },
     "execution_count": 974,
     "metadata": {},
     "output_type": "execute_result"
    }
   ],
   "source": [
    "accuracies_df.sort_values(by=\"Accuracy_mean\",ascending=False)"
   ]
  },
  {
   "cell_type": "markdown",
   "metadata": {},
   "source": [
    "We find that the best model is build with standardized row data without outlier trimmed"
   ]
  },
  {
   "cell_type": "code",
   "execution_count": 985,
   "metadata": {},
   "outputs": [
    {
     "data": {
      "image/png": "[encoded data removed]",
      "text/plain": [
       "<Figure size 1600x600 with 1 Axes>"
      ]
     },
     "metadata": {},
     "output_type": "display_data"
    }
   ],
   "source": [
    "accuracies_df[accuracies_df[\"data\"]==\"raw_standard\"][[\"Name\",\"Accuracy_mean\",\"BER_mean\",\"ROC_mean\",\"Accuracy_std\",\"BER_std\",\"ROC_std\"]].plot(kind=\"bar\",x=\"Name\",figsize=(16,6))\n",
    "\n",
    "plt.show()"
   ]
  }
 ],
 "metadata": {
  "kernelspec": {
   "display_name": "Python 3.9.14 64-bit ('3.9.14')",
   "language": "python",
   "name": "python3"
  },
  "language_info": {
   "codemirror_mode": {
    "name": "ipython",
    "version": 3
   },
   "file_extension": ".py",
   "mimetype": "text/x-python",
   "name": "python",
   "nbconvert_exporter": "python",
   "pygments_lexer": "ipython3",
   "version": "3.9.14"
  },
  "orig_nbformat": 4,
  "vscode": {
   "interpreter": {
    "hash": "9b51932b85eb61d61256980453aff19f4b3fb51a4f18cfee8210c742a88c8ee3"
   }
  }
 },
 "nbformat": 4,
 "nbformat_minor": 2
}
