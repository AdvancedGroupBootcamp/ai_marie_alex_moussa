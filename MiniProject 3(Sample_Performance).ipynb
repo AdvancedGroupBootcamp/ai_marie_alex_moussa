{
 "cells": [
  {
   "cell_type": "code",
   "execution_count": 6,
   "id": "d9c663cd",
   "metadata": {},
   "outputs": [],
   "source": [
    "import warnings\n",
    "\n",
    "warnings.filterwarnings('ignore')"
   ]
  },
  {
   "cell_type": "code",
   "execution_count": 7,
   "id": "33b20677",
   "metadata": {},
   "outputs": [],
   "source": [
    "# Useful packages\n",
    "\n",
    "import pandas as pd\n",
    "import seaborn as sns\n",
    "import matplotlib.pyplot as plt\n",
    "import numpy as np\n",
    "from random import seed\n",
    "\n",
    "seed(0)"
   ]
  },
  {
   "cell_type": "code",
   "execution_count": 8,
   "id": "8a4cc875",
   "metadata": {},
   "outputs": [],
   "source": [
    "# Data loading\n",
    "\n",
    "train_titanic=pd.read_csv(\"train.csv\")\n",
    "\n",
    "test_titanic=pd.read_csv(\"test.csv\")"
   ]
  },
  {
   "cell_type": "code",
   "execution_count": 9,
   "id": "d2e9ef02",
   "metadata": {},
   "outputs": [
    {
     "data": {
      "text/html": [
       "<div>\n",
       "<style scoped>\n",
       "    .dataframe tbody tr th:only-of-type {\n",
       "        vertical-align: middle;\n",
       "    }\n",
       "\n",
       "    .dataframe tbody tr th {\n",
       "        vertical-align: top;\n",
       "    }\n",
       "\n",
       "    .dataframe thead th {\n",
       "        text-align: right;\n",
       "    }\n",
       "</style>\n",
       "<table border=\"1\" class=\"dataframe\">\n",
       "  <thead>\n",
       "    <tr style=\"text-align: right;\">\n",
       "      <th></th>\n",
       "      <th>PassengerId</th>\n",
       "      <th>Survived</th>\n",
       "      <th>Pclass</th>\n",
       "      <th>Name</th>\n",
       "      <th>Sex</th>\n",
       "      <th>Age</th>\n",
       "      <th>SibSp</th>\n",
       "      <th>Parch</th>\n",
       "      <th>Ticket</th>\n",
       "      <th>Fare</th>\n",
       "      <th>Cabin</th>\n",
       "      <th>Embarked</th>\n",
       "    </tr>\n",
       "  </thead>\n",
       "  <tbody>\n",
       "    <tr>\n",
       "      <th>0</th>\n",
       "      <td>1</td>\n",
       "      <td>0</td>\n",
       "      <td>3</td>\n",
       "      <td>Braund, Mr. Owen Harris</td>\n",
       "      <td>male</td>\n",
       "      <td>22.0</td>\n",
       "      <td>1</td>\n",
       "      <td>0</td>\n",
       "      <td>A/5 21171</td>\n",
       "      <td>7.2500</td>\n",
       "      <td>NaN</td>\n",
       "      <td>S</td>\n",
       "    </tr>\n",
       "    <tr>\n",
       "      <th>1</th>\n",
       "      <td>2</td>\n",
       "      <td>1</td>\n",
       "      <td>1</td>\n",
       "      <td>Cumings, Mrs. John Bradley (Florence Briggs Th...</td>\n",
       "      <td>female</td>\n",
       "      <td>38.0</td>\n",
       "      <td>1</td>\n",
       "      <td>0</td>\n",
       "      <td>PC 17599</td>\n",
       "      <td>71.2833</td>\n",
       "      <td>C85</td>\n",
       "      <td>C</td>\n",
       "    </tr>\n",
       "  </tbody>\n",
       "</table>\n",
       "</div>"
      ],
      "text/plain": [
       "   PassengerId  Survived  Pclass  \\\n",
       "0            1         0       3   \n",
       "1            2         1       1   \n",
       "\n",
       "                                                Name     Sex   Age  SibSp  \\\n",
       "0                            Braund, Mr. Owen Harris    male  22.0      1   \n",
       "1  Cumings, Mrs. John Bradley (Florence Briggs Th...  female  38.0      1   \n",
       "\n",
       "   Parch     Ticket     Fare Cabin Embarked  \n",
       "0      0  A/5 21171   7.2500   NaN        S  \n",
       "1      0   PC 17599  71.2833   C85        C  "
      ]
     },
     "execution_count": 9,
     "metadata": {},
     "output_type": "execute_result"
    }
   ],
   "source": [
    "train_titanic.head(2)"
   ]
  },
  {
   "cell_type": "code",
   "execution_count": 10,
   "id": "4fa284b3",
   "metadata": {},
   "outputs": [
    {
     "name": "stdout",
     "output_type": "stream",
     "text": [
      "<class 'pandas.core.frame.DataFrame'>\n",
      "RangeIndex: 891 entries, 0 to 890\n",
      "Data columns (total 12 columns):\n",
      " #   Column       Non-Null Count  Dtype  \n",
      "---  ------       --------------  -----  \n",
      " 0   PassengerId  891 non-null    int64  \n",
      " 1   Survived     891 non-null    int64  \n",
      " 2   Pclass       891 non-null    int64  \n",
      " 3   Name         891 non-null    object \n",
      " 4   Sex          891 non-null    object \n",
      " 5   Age          714 non-null    float64\n",
      " 6   SibSp        891 non-null    int64  \n",
      " 7   Parch        891 non-null    int64  \n",
      " 8   Ticket       891 non-null    object \n",
      " 9   Fare         891 non-null    float64\n",
      " 10  Cabin        204 non-null    object \n",
      " 11  Embarked     889 non-null    object \n",
      "dtypes: float64(2), int64(5), object(5)\n",
      "memory usage: 83.7+ KB\n"
     ]
    }
   ],
   "source": [
    "train_titanic.info()"
   ]
  },
  {
   "cell_type": "code",
   "execution_count": 11,
   "id": "ee1070ae",
   "metadata": {},
   "outputs": [
    {
     "name": "stdout",
     "output_type": "stream",
     "text": [
      "<class 'pandas.core.frame.DataFrame'>\n",
      "RangeIndex: 418 entries, 0 to 417\n",
      "Data columns (total 11 columns):\n",
      " #   Column       Non-Null Count  Dtype  \n",
      "---  ------       --------------  -----  \n",
      " 0   PassengerId  418 non-null    int64  \n",
      " 1   Pclass       418 non-null    int64  \n",
      " 2   Name         418 non-null    object \n",
      " 3   Sex          418 non-null    object \n",
      " 4   Age          332 non-null    float64\n",
      " 5   SibSp        418 non-null    int64  \n",
      " 6   Parch        418 non-null    int64  \n",
      " 7   Ticket       418 non-null    object \n",
      " 8   Fare         417 non-null    float64\n",
      " 9   Cabin        91 non-null     object \n",
      " 10  Embarked     418 non-null    object \n",
      "dtypes: float64(2), int64(4), object(5)\n",
      "memory usage: 36.0+ KB\n"
     ]
    }
   ],
   "source": [
    "test_titanic.info()"
   ]
  },
  {
   "cell_type": "markdown",
   "id": "6f58fa5f",
   "metadata": {},
   "source": [
    "## Data description"
   ]
  },
  {
   "cell_type": "markdown",
   "id": "a93738b0",
   "metadata": {},
   "source": [
    "We have eleven variables:\n",
    "\n",
    "    - PassengerId: Primary key that are unique for each passenger\n",
    "    - Survived: feature that gives information about the status of a passenger after accident,\n",
    "    (0/1)-(Died/Survived)\n",
    "    - Pclass: The class that the passager was embarked\n",
    "    - Name: Name of the passenger\n",
    "    - Sex: gender of the passenger\n",
    "    - Age : Age of passenger\n",
    "    - SibSp: Number of siblings/spouse on board of titanic\n",
    "    - Parch: Number of parent/children on board of titanic\n",
    "    - Ticket: Ticket number\n",
    "    - Fare: Price of passenger's ticket \n",
    "    - Cabin: Cabin number\n",
    "    - Embarked: Port of embarkation"
   ]
  },
  {
   "cell_type": "code",
   "execution_count": 12,
   "id": "d4681c22",
   "metadata": {},
   "outputs": [],
   "source": [
    "train_titanic=pd.read_csv(\"train_processed.csv\")\n",
    "test_titanic=pd.read_csv(\"test_processed.csv\")"
   ]
  },
  {
   "cell_type": "markdown",
   "id": "db1dcb64",
   "metadata": {},
   "source": [
    "### Encodage des variables"
   ]
  },
  {
   "cell_type": "code",
   "execution_count": 13,
   "id": "fe3e3fa4",
   "metadata": {},
   "outputs": [],
   "source": [
    "#Train data\n",
    "\n",
    "train_titanic['Pclass']=train_titanic['Pclass'].astype('category')\n",
    "\n",
    "# Test data\n",
    "\n",
    "test_titanic['Pclass']=test_titanic['Pclass'].astype('category')"
   ]
  },
  {
   "cell_type": "code",
   "execution_count": 14,
   "id": "602ffb07",
   "metadata": {},
   "outputs": [],
   "source": [
    "\n",
    "train_titanic['Cabin_new']=train_titanic['Cabin_new'].apply(lambda x:str(x).strip()[0])\n",
    "\n",
    "test_titanic['Cabin_new']=test_titanic['Cabin_new'].apply(lambda x:str(x).strip()[0])"
   ]
  },
  {
   "cell_type": "code",
   "execution_count": 15,
   "id": "0f5195d8",
   "metadata": {},
   "outputs": [
    {
     "data": {
      "text/html": [
       "<div>\n",
       "<style scoped>\n",
       "    .dataframe tbody tr th:only-of-type {\n",
       "        vertical-align: middle;\n",
       "    }\n",
       "\n",
       "    .dataframe tbody tr th {\n",
       "        vertical-align: top;\n",
       "    }\n",
       "\n",
       "    .dataframe thead th {\n",
       "        text-align: right;\n",
       "    }\n",
       "</style>\n",
       "<table border=\"1\" class=\"dataframe\">\n",
       "  <thead>\n",
       "    <tr style=\"text-align: right;\">\n",
       "      <th></th>\n",
       "      <th>Survived</th>\n",
       "      <th>Pclass</th>\n",
       "      <th>Sex</th>\n",
       "      <th>Age</th>\n",
       "      <th>SibSp</th>\n",
       "      <th>Parch</th>\n",
       "      <th>Fare</th>\n",
       "      <th>Embarked</th>\n",
       "      <th>Cabin_new</th>\n",
       "    </tr>\n",
       "  </thead>\n",
       "  <tbody>\n",
       "    <tr>\n",
       "      <th>23</th>\n",
       "      <td>1</td>\n",
       "      <td>1</td>\n",
       "      <td>male</td>\n",
       "      <td>28.0</td>\n",
       "      <td>0</td>\n",
       "      <td>0</td>\n",
       "      <td>35</td>\n",
       "      <td>S</td>\n",
       "      <td>A</td>\n",
       "    </tr>\n",
       "    <tr>\n",
       "      <th>55</th>\n",
       "      <td>1</td>\n",
       "      <td>1</td>\n",
       "      <td>male</td>\n",
       "      <td>65.0</td>\n",
       "      <td>0</td>\n",
       "      <td>0</td>\n",
       "      <td>35</td>\n",
       "      <td>S</td>\n",
       "      <td>C</td>\n",
       "    </tr>\n",
       "    <tr>\n",
       "      <th>339</th>\n",
       "      <td>0</td>\n",
       "      <td>1</td>\n",
       "      <td>male</td>\n",
       "      <td>45.0</td>\n",
       "      <td>0</td>\n",
       "      <td>0</td>\n",
       "      <td>35</td>\n",
       "      <td>S</td>\n",
       "      <td>T</td>\n",
       "    </tr>\n",
       "    <tr>\n",
       "      <th>351</th>\n",
       "      <td>0</td>\n",
       "      <td>1</td>\n",
       "      <td>male</td>\n",
       "      <td>23.0</td>\n",
       "      <td>0</td>\n",
       "      <td>0</td>\n",
       "      <td>35</td>\n",
       "      <td>S</td>\n",
       "      <td>C</td>\n",
       "    </tr>\n",
       "    <tr>\n",
       "      <th>647</th>\n",
       "      <td>1</td>\n",
       "      <td>1</td>\n",
       "      <td>male</td>\n",
       "      <td>56.0</td>\n",
       "      <td>0</td>\n",
       "      <td>0</td>\n",
       "      <td>35</td>\n",
       "      <td>C</td>\n",
       "      <td>A</td>\n",
       "    </tr>\n",
       "  </tbody>\n",
       "</table>\n",
       "</div>"
      ],
      "text/plain": [
       "     Survived Pclass   Sex   Age  SibSp  Parch  Fare Embarked Cabin_new\n",
       "23          1      1  male  28.0      0      0    35        S         A\n",
       "55          1      1  male  65.0      0      0    35        S         C\n",
       "339         0      1  male  45.0      0      0    35        S         T\n",
       "351         0      1  male  23.0      0      0    35        S         C\n",
       "647         1      1  male  56.0      0      0    35        C         A"
      ]
     },
     "execution_count": 15,
     "metadata": {},
     "output_type": "execute_result"
    }
   ],
   "source": [
    "train_titanic[train_titanic[\"Fare\"]==35]"
   ]
  },
  {
   "cell_type": "code",
   "execution_count": 16,
   "id": "ac511b87",
   "metadata": {},
   "outputs": [],
   "source": [
    "# As there are no cabin with T in test set then to keep the same format in test and train set\n",
    "# We will replace T by C that is more similar to this view based on other attributes\n",
    "\n",
    "train_titanic['Cabin_new']=train_titanic['Cabin_new'].replace('T','C') "
   ]
  },
  {
   "cell_type": "code",
   "execution_count": 17,
   "id": "05190bfe",
   "metadata": {},
   "outputs": [
    {
     "data": {
      "text/plain": [
       "((891, 20), (418, 19))"
      ]
     },
     "execution_count": 17,
     "metadata": {},
     "output_type": "execute_result"
    }
   ],
   "source": [
    "train_titanic_numeric=pd.get_dummies(train_titanic)\n",
    "\n",
    "test_titanic_numeric=pd.get_dummies(test_titanic)\n",
    "\n",
    "train_titanic_numeric.shape,test_titanic_numeric.shape"
   ]
  },
  {
   "cell_type": "markdown",
   "id": "be0e2607",
   "metadata": {},
   "source": [
    "### Modelisation"
   ]
  },
  {
   "cell_type": "code",
   "execution_count": 18,
   "id": "20afc86f",
   "metadata": {},
   "outputs": [],
   "source": [
    "from sklearn.linear_model import LogisticRegression\n",
    "\n",
    "from sklearn.discriminant_analysis import LinearDiscriminantAnalysis\n",
    "\n",
    "from sklearn.neighbors import KNeighborsClassifier\n",
    "\n",
    "from sklearn.model_selection import train_test_split\n",
    "\n",
    "from sklearn.metrics import classification_report,confusion_matrix\n",
    "from sklearn.model_selection import GridSearchCV"
   ]
  },
  {
   "cell_type": "code",
   "execution_count": 19,
   "id": "ae3baaab",
   "metadata": {},
   "outputs": [],
   "source": [
    "lr_model=LogisticRegression(penalty=\"l2\",class_weight=\"balanced\")\n",
    "LDA=LinearDiscriminantAnalysis()\n",
    "KNN=KNeighborsClassifier(n_neighbors=2,n_jobs=-1)"
   ]
  },
  {
   "cell_type": "code",
   "execution_count": 20,
   "id": "baed2b72",
   "metadata": {},
   "outputs": [],
   "source": [
    "y=train_titanic_numeric[\"Survived\"]\n",
    "X=train_titanic_numeric.drop(columns=[\"Survived\"])"
   ]
  },
  {
   "cell_type": "code",
   "execution_count": 21,
   "id": "d69511a3",
   "metadata": {},
   "outputs": [],
   "source": [
    "X_train,X_valid,y_train,y_valid=train_test_split(X,y,test_size=.1)"
   ]
  },
  {
   "cell_type": "code",
   "execution_count": 35,
   "id": "f86e774d",
   "metadata": {},
   "outputs": [],
   "source": [
    "import numpy as np\n",
    "\n",
    "## Logistic Regression optimisation\n",
    "grid={\"C\":np.logspace(-3,3,10), \"penalty\":[\"l1\",\"l2\",\"elasticnet\"]}# l1 lasso l2 ridge\n",
    "logreg=LogisticRegression(max_iter=10000)\n",
    "grid_LR=GridSearchCV(logreg,grid,cv=10,scoring=\"accuracy\",n_jobs=-1)\n",
    "\n",
    "## KNN optimisation\n",
    "KNN = KNeighborsClassifier()\n",
    "k_range = list(range(1, 31))\n",
    "param_grid = dict(n_neighbors=k_range)\n",
    "  \n",
    "# defining parameter range\n",
    "grid_KNN = GridSearchCV(KNN, param_grid, cv=10, scoring='accuracy',n_jobs=-1)\n",
    "\n",
    "## LDA optimisation\n",
    "\n",
    "grid=dict()\n",
    "grid['solver']=['svd', 'lsqr', 'eigen']\n",
    "\n",
    "grid_LDA=GridSearchCV(LDA, grid, scoring='accuracy', cv=10, n_jobs=-1 )"
   ]
  },
  {
   "cell_type": "code",
   "execution_count": 41,
   "id": "2dfbdb42",
   "metadata": {},
   "outputs": [],
   "source": [
    "from sklearn import metrics\n",
    "import warnings\n",
    "warnings.filterwarnings('ignore')\n",
    "\n",
    "models={\"LR\":grid_LR,\"KNN\":grid_KNN,\"LDA\":grid_LDA}\n",
    "\n",
    "def initiate_dict(models):\n",
    "\n",
    "    train_scores={}\n",
    "    test_scores={}\n",
    "    check={\"accuracy\":[],\"precision\":[],\"recall\":[],\"f1_score\":[]}\n",
    "    for key,value in models.items():\n",
    "        \n",
    "        train_scores[key]=[]\n",
    "\n",
    "        test_scores[key]=check\n",
    "\n",
    "    return train_scores,test_scores\n",
    "\n",
    "\n",
    "def sample_impact(models,X,y,test_size_range):\n",
    "\n",
    "    \n",
    "    \n",
    "    for model in zip(models.keys(),models.values()):\n",
    "\n",
    "        train_scores,test_scores=initiate_dict(models)\n",
    "        \n",
    "        for name,model in zip(models.keys(),model.values()):\n",
    "            \n",
    "            for test_size in test_size_range:\n",
    "\n",
    "                X_temp_train,X_temp_test,y_temp_train,y_temp_test=train_test_split(X,y,test_size=test_size)\n",
    "\n",
    "                model.fit(X_temp_train,y_temp_train)\n",
    "\n",
    "                y_predicted=model.predict(X_temp_test)\n",
    "                \n",
    "                #Fitting score\n",
    "                train_scores[name].append(model.score(X_temp_train,y_temp_train))\n",
    "                #Accuracy\n",
    "                acc=metrics.accuracy_score(y_pred=y_predicted,y_true=y_temp_test)\n",
    "                test_scores[name][\"accuracy\"].append(acc)\n",
    "\n",
    "                #Presicion\n",
    "                precision=metrics.precision_score(y_pred=y_predicted,y_true=y_temp_test)\n",
    "                test_scores[name][\"precision\"].append(precision)\n",
    "\n",
    "\n",
    "                #Recall\n",
    "                recall=metrics.recall_score(y_pred=y_predicted,y_true=y_temp_test)\n",
    "                test_scores[name][\"recall\"].append(recall)\n",
    "\n",
    "                #F1-Score\n",
    "                f1_score_test=metrics.f1_score(y_pred=y_predicted,y_true=y_temp_test)\n",
    "                test_scores[name][\"f1_score\"].append(f1_score_test)\n",
    "            \n",
    "    return train_scores,test_scores"
   ]
  },
  {
   "cell_type": "code",
   "execution_count": 42,
   "id": "c3febe35",
   "metadata": {},
   "outputs": [],
   "source": [
    "train_scores,test_scores=sample_impact(models,X,y,test_size_range=[0.1,0.2,0.3,0.4])"
   ]
  },
  {
   "cell_type": "code",
   "execution_count": 52,
   "id": "330b016c",
   "metadata": {},
   "outputs": [
    {
     "data": {
      "image/png": "[encoded data removed]",
      "text/plain": [
       "<Figure size 640x480 with 1 Axes>"
      ]
     },
     "metadata": {},
     "output_type": "display_data"
    }
   ],
   "source": [
    "plt.plot(1-np.array([0.1,0.2,0.3,0.4]),train_scores[\"KNN\"],label=\"KNN\")\n",
    "plt.plot(1-np.array([0.1,0.2,0.3,0.4]),train_scores[\"LR\"],label=\"LR\")\n",
    "plt.plot(1-np.array([0.1,0.2,0.3,0.4]),train_scores[\"LDA\"],label=\"LDA\")\n",
    "plt.legend()\n",
    "plt.show()"
   ]
  },
  {
   "cell_type": "code",
   "execution_count": 55,
   "id": "a6364a44",
   "metadata": {},
   "outputs": [
    {
     "data": {
      "text/plain": [
       "12"
      ]
     },
     "execution_count": 55,
     "metadata": {},
     "output_type": "execute_result"
    }
   ],
   "source": [
    "len(test_scores[\"KNN\"][\"accuracy\"])"
   ]
  },
  {
   "cell_type": "code",
   "execution_count": 53,
   "id": "f0f161ef",
   "metadata": {},
   "outputs": [
    {
     "ename": "ValueError",
     "evalue": "x and y must have same first dimension, but have shapes (4,) and (12,)",
     "output_type": "error",
     "traceback": [
      "\u001b[0;31m---------------------------------------------------------------------------\u001b[0m",
      "\u001b[0;31mValueError\u001b[0m                                Traceback (most recent call last)",
      "Cell \u001b[0;32mIn [53], line 1\u001b[0m\n\u001b[0;32m----> 1\u001b[0m plt\u001b[39m.\u001b[39;49mplot(np\u001b[39m.\u001b[39;49marray([\u001b[39m0.1\u001b[39;49m,\u001b[39m0.2\u001b[39;49m,\u001b[39m0.3\u001b[39;49m,\u001b[39m0.4\u001b[39;49m]),test_scores[\u001b[39m\"\u001b[39;49m\u001b[39mKNN\u001b[39;49m\u001b[39m\"\u001b[39;49m][\u001b[39m\"\u001b[39;49m\u001b[39maccuracy\u001b[39;49m\u001b[39m\"\u001b[39;49m],label\u001b[39m=\u001b[39;49m\u001b[39m\"\u001b[39;49m\u001b[39mAccuracy\u001b[39;49m\u001b[39m\"\u001b[39;49m)\n\u001b[1;32m      2\u001b[0m plt\u001b[39m.\u001b[39mplot(np\u001b[39m.\u001b[39marray([\u001b[39m0.1\u001b[39m,\u001b[39m0.2\u001b[39m,\u001b[39m0.3\u001b[39m,\u001b[39m0.4\u001b[39m]),test_scores[\u001b[39m\"\u001b[39m\u001b[39mKNN\u001b[39m\u001b[39m\"\u001b[39m][\u001b[39m\"\u001b[39m\u001b[39mprecsion\u001b[39m\u001b[39m\"\u001b[39m],label\u001b[39m=\u001b[39m\u001b[39m\"\u001b[39m\u001b[39mPrecision\u001b[39m\u001b[39m\"\u001b[39m)\n\u001b[1;32m      3\u001b[0m plt\u001b[39m.\u001b[39mplot(np\u001b[39m.\u001b[39marray([\u001b[39m0.1\u001b[39m,\u001b[39m0.2\u001b[39m,\u001b[39m0.3\u001b[39m,\u001b[39m0.4\u001b[39m]),test_scores[\u001b[39m\"\u001b[39m\u001b[39mKNN\u001b[39m\u001b[39m\"\u001b[39m][\u001b[39m\"\u001b[39m\u001b[39mrecall\u001b[39m\u001b[39m\"\u001b[39m],label\u001b[39m=\u001b[39m\u001b[39m\"\u001b[39m\u001b[39mRecall\u001b[39m\u001b[39m\"\u001b[39m)\n",
      "File \u001b[0;32m~/.pyenv/versions/3.9.14/lib/python3.9/site-packages/matplotlib/pyplot.py:2730\u001b[0m, in \u001b[0;36mplot\u001b[0;34m(scalex, scaley, data, *args, **kwargs)\u001b[0m\n\u001b[1;32m   2728\u001b[0m \u001b[39m@_copy_docstring_and_deprecators\u001b[39m(Axes\u001b[39m.\u001b[39mplot)\n\u001b[1;32m   2729\u001b[0m \u001b[39mdef\u001b[39;00m \u001b[39mplot\u001b[39m(\u001b[39m*\u001b[39margs, scalex\u001b[39m=\u001b[39m\u001b[39mTrue\u001b[39;00m, scaley\u001b[39m=\u001b[39m\u001b[39mTrue\u001b[39;00m, data\u001b[39m=\u001b[39m\u001b[39mNone\u001b[39;00m, \u001b[39m*\u001b[39m\u001b[39m*\u001b[39mkwargs):\n\u001b[0;32m-> 2730\u001b[0m     \u001b[39mreturn\u001b[39;00m gca()\u001b[39m.\u001b[39;49mplot(\n\u001b[1;32m   2731\u001b[0m         \u001b[39m*\u001b[39;49margs, scalex\u001b[39m=\u001b[39;49mscalex, scaley\u001b[39m=\u001b[39;49mscaley,\n\u001b[1;32m   2732\u001b[0m         \u001b[39m*\u001b[39;49m\u001b[39m*\u001b[39;49m({\u001b[39m\"\u001b[39;49m\u001b[39mdata\u001b[39;49m\u001b[39m\"\u001b[39;49m: data} \u001b[39mif\u001b[39;49;00m data \u001b[39mis\u001b[39;49;00m \u001b[39mnot\u001b[39;49;00m \u001b[39mNone\u001b[39;49;00m \u001b[39melse\u001b[39;49;00m {}), \u001b[39m*\u001b[39;49m\u001b[39m*\u001b[39;49mkwargs)\n",
      "File \u001b[0;32m~/.pyenv/versions/3.9.14/lib/python3.9/site-packages/matplotlib/axes/_axes.py:1662\u001b[0m, in \u001b[0;36mAxes.plot\u001b[0;34m(self, scalex, scaley, data, *args, **kwargs)\u001b[0m\n\u001b[1;32m   1419\u001b[0m \u001b[39m\"\"\"\u001b[39;00m\n\u001b[1;32m   1420\u001b[0m \u001b[39mPlot y versus x as lines and/or markers.\u001b[39;00m\n\u001b[1;32m   1421\u001b[0m \n\u001b[0;32m   (...)\u001b[0m\n\u001b[1;32m   1659\u001b[0m \u001b[39m(``'green'``) or hex strings (``'#008000'``).\u001b[39;00m\n\u001b[1;32m   1660\u001b[0m \u001b[39m\"\"\"\u001b[39;00m\n\u001b[1;32m   1661\u001b[0m kwargs \u001b[39m=\u001b[39m cbook\u001b[39m.\u001b[39mnormalize_kwargs(kwargs, mlines\u001b[39m.\u001b[39mLine2D)\n\u001b[0;32m-> 1662\u001b[0m lines \u001b[39m=\u001b[39m [\u001b[39m*\u001b[39m\u001b[39mself\u001b[39m\u001b[39m.\u001b[39m_get_lines(\u001b[39m*\u001b[39margs, data\u001b[39m=\u001b[39mdata, \u001b[39m*\u001b[39m\u001b[39m*\u001b[39mkwargs)]\n\u001b[1;32m   1663\u001b[0m \u001b[39mfor\u001b[39;00m line \u001b[39min\u001b[39;00m lines:\n\u001b[1;32m   1664\u001b[0m     \u001b[39mself\u001b[39m\u001b[39m.\u001b[39madd_line(line)\n",
      "File \u001b[0;32m~/.pyenv/versions/3.9.14/lib/python3.9/site-packages/matplotlib/axes/_base.py:311\u001b[0m, in \u001b[0;36m_process_plot_var_args.__call__\u001b[0;34m(self, data, *args, **kwargs)\u001b[0m\n\u001b[1;32m    309\u001b[0m     this \u001b[39m+\u001b[39m\u001b[39m=\u001b[39m args[\u001b[39m0\u001b[39m],\n\u001b[1;32m    310\u001b[0m     args \u001b[39m=\u001b[39m args[\u001b[39m1\u001b[39m:]\n\u001b[0;32m--> 311\u001b[0m \u001b[39myield from\u001b[39;00m \u001b[39mself\u001b[39;49m\u001b[39m.\u001b[39;49m_plot_args(\n\u001b[1;32m    312\u001b[0m     this, kwargs, ambiguous_fmt_datakey\u001b[39m=\u001b[39;49mambiguous_fmt_datakey)\n",
      "File \u001b[0;32m~/.pyenv/versions/3.9.14/lib/python3.9/site-packages/matplotlib/axes/_base.py:504\u001b[0m, in \u001b[0;36m_process_plot_var_args._plot_args\u001b[0;34m(self, tup, kwargs, return_kwargs, ambiguous_fmt_datakey)\u001b[0m\n\u001b[1;32m    501\u001b[0m     \u001b[39mself\u001b[39m\u001b[39m.\u001b[39maxes\u001b[39m.\u001b[39myaxis\u001b[39m.\u001b[39mupdate_units(y)\n\u001b[1;32m    503\u001b[0m \u001b[39mif\u001b[39;00m x\u001b[39m.\u001b[39mshape[\u001b[39m0\u001b[39m] \u001b[39m!=\u001b[39m y\u001b[39m.\u001b[39mshape[\u001b[39m0\u001b[39m]:\n\u001b[0;32m--> 504\u001b[0m     \u001b[39mraise\u001b[39;00m \u001b[39mValueError\u001b[39;00m(\u001b[39mf\u001b[39m\u001b[39m\"\u001b[39m\u001b[39mx and y must have same first dimension, but \u001b[39m\u001b[39m\"\u001b[39m\n\u001b[1;32m    505\u001b[0m                      \u001b[39mf\u001b[39m\u001b[39m\"\u001b[39m\u001b[39mhave shapes \u001b[39m\u001b[39m{\u001b[39;00mx\u001b[39m.\u001b[39mshape\u001b[39m}\u001b[39;00m\u001b[39m and \u001b[39m\u001b[39m{\u001b[39;00my\u001b[39m.\u001b[39mshape\u001b[39m}\u001b[39;00m\u001b[39m\"\u001b[39m)\n\u001b[1;32m    506\u001b[0m \u001b[39mif\u001b[39;00m x\u001b[39m.\u001b[39mndim \u001b[39m>\u001b[39m \u001b[39m2\u001b[39m \u001b[39mor\u001b[39;00m y\u001b[39m.\u001b[39mndim \u001b[39m>\u001b[39m \u001b[39m2\u001b[39m:\n\u001b[1;32m    507\u001b[0m     \u001b[39mraise\u001b[39;00m \u001b[39mValueError\u001b[39;00m(\u001b[39mf\u001b[39m\u001b[39m\"\u001b[39m\u001b[39mx and y can be no greater than 2D, but have \u001b[39m\u001b[39m\"\u001b[39m\n\u001b[1;32m    508\u001b[0m                      \u001b[39mf\u001b[39m\u001b[39m\"\u001b[39m\u001b[39mshapes \u001b[39m\u001b[39m{\u001b[39;00mx\u001b[39m.\u001b[39mshape\u001b[39m}\u001b[39;00m\u001b[39m and \u001b[39m\u001b[39m{\u001b[39;00my\u001b[39m.\u001b[39mshape\u001b[39m}\u001b[39;00m\u001b[39m\"\u001b[39m)\n",
      "\u001b[0;31mValueError\u001b[0m: x and y must have same first dimension, but have shapes (4,) and (12,)"
     ]
    },
    {
     "data": {
      "image/png": "[encoded data removed]",
      "text/plain": [
       "<Figure size 640x480 with 1 Axes>"
      ]
     },
     "metadata": {},
     "output_type": "display_data"
    }
   ],
   "source": [
    "plt.plot(np.array([0.1,0.2,0.3,0.4]),test_scores[\"KNN\"][\"accuracy\"],label=\"Accuracy\")\n",
    "plt.plot(np.array([0.1,0.2,0.3,0.4]),test_scores[\"KNN\"][\"precsion\"],label=\"Precision\")\n",
    "plt.plot(np.array([0.1,0.2,0.3,0.4]),test_scores[\"KNN\"][\"recall\"],label=\"Recall\")\n",
    "plt.plot(np.array([0.1,0.2,0.3,0.4]),test_scores[\"KNN\"][\"f1_score\"],label=\"F1 score\")\n",
    "\n",
    "plt.legend()\n",
    "\n",
    "plt.show()\n"
   ]
  },
  {
   "cell_type": "code",
   "execution_count": null,
   "id": "b68117b7",
   "metadata": {},
   "outputs": [
    {
     "name": "stdout",
     "output_type": "stream",
     "text": [
      "Significant variables in modeling passenger survival:  Index(['Fare', 'Pclass_1', 'Pclass_3', 'Sex_female', 'Sex_male', 'Embarked_C',\n",
      "       'Embarked_S', 'Cabin_new_C', 'Cabin_new_E', 'Cabin_new_F'],\n",
      "      dtype='object')\n"
     ]
    }
   ],
   "source": [
    "from sklearn.feature_selection import chi2,SelectKBest,RFE,f_classif\n",
    "\n",
    "selector=SelectKBest(score_func=f_classif)\n",
    "\n",
    "# Entrainnement de la méthode\n",
    "selector_fitted=selector.fit(X_train,y_train)\n",
    "\n",
    "print(\"Significant variables in modeling passenger survival: \",X_train.columns[selector_fitted.get_support()])"
   ]
  }
 ],
 "metadata": {
  "kernelspec": {
   "display_name": "Python 3.9.14 64-bit ('3.9.14')",
   "language": "python",
   "name": "python3"
  },
  "language_info": {
   "codemirror_mode": {
    "name": "ipython",
    "version": 3
   },
   "file_extension": ".py",
   "mimetype": "text/x-python",
   "name": "python",
   "nbconvert_exporter": "python",
   "pygments_lexer": "ipython3",
   "version": "3.9.14"
  },
  "vscode": {
   "interpreter": {
    "hash": "9b51932b85eb61d61256980453aff19f4b3fb51a4f18cfee8210c742a88c8ee3"
   }
  }
 },
 "nbformat": 4,
 "nbformat_minor": 5
}
