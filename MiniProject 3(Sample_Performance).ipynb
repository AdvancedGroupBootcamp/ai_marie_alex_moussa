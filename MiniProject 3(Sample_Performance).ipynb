{
 "cells": [
  {
   "cell_type": "code",
   "execution_count": 153,
   "id": "d9c663cd",
   "metadata": {},
   "outputs": [],
   "source": [
    "import warnings\n",
    "\n",
    "warnings.filterwarnings('ignore')"
   ]
  },
  {
   "cell_type": "code",
   "execution_count": 154,
   "id": "33b20677",
   "metadata": {},
   "outputs": [],
   "source": [
    "# Useful packages\n",
    "\n",
    "import pandas as pd\n",
    "import seaborn as sns\n",
    "import matplotlib.pyplot as plt\n",
    "import numpy as np\n",
    "from random import seed\n",
    "\n",
    "seed(0)"
   ]
  },
  {
   "cell_type": "code",
   "execution_count": 155,
   "id": "8a4cc875",
   "metadata": {},
   "outputs": [],
   "source": [
    "# Data loading\n",
    "\n",
    "train_titanic=pd.read_csv(\"train.csv\")\n",
    "\n",
    "test_titanic=pd.read_csv(\"test.csv\")"
   ]
  },
  {
   "cell_type": "code",
   "execution_count": 156,
   "id": "d2e9ef02",
   "metadata": {},
   "outputs": [
    {
     "data": {
      "text/html": [
       "<div>\n",
       "<style scoped>\n",
       "    .dataframe tbody tr th:only-of-type {\n",
       "        vertical-align: middle;\n",
       "    }\n",
       "\n",
       "    .dataframe tbody tr th {\n",
       "        vertical-align: top;\n",
       "    }\n",
       "\n",
       "    .dataframe thead th {\n",
       "        text-align: right;\n",
       "    }\n",
       "</style>\n",
       "<table border=\"1\" class=\"dataframe\">\n",
       "  <thead>\n",
       "    <tr style=\"text-align: right;\">\n",
       "      <th></th>\n",
       "      <th>PassengerId</th>\n",
       "      <th>Survived</th>\n",
       "      <th>Pclass</th>\n",
       "      <th>Name</th>\n",
       "      <th>Sex</th>\n",
       "      <th>Age</th>\n",
       "      <th>SibSp</th>\n",
       "      <th>Parch</th>\n",
       "      <th>Ticket</th>\n",
       "      <th>Fare</th>\n",
       "      <th>Cabin</th>\n",
       "      <th>Embarked</th>\n",
       "    </tr>\n",
       "  </thead>\n",
       "  <tbody>\n",
       "    <tr>\n",
       "      <th>0</th>\n",
       "      <td>1</td>\n",
       "      <td>0</td>\n",
       "      <td>3</td>\n",
       "      <td>Braund, Mr. Owen Harris</td>\n",
       "      <td>male</td>\n",
       "      <td>22.0</td>\n",
       "      <td>1</td>\n",
       "      <td>0</td>\n",
       "      <td>A/5 21171</td>\n",
       "      <td>7.2500</td>\n",
       "      <td>NaN</td>\n",
       "      <td>S</td>\n",
       "    </tr>\n",
       "    <tr>\n",
       "      <th>1</th>\n",
       "      <td>2</td>\n",
       "      <td>1</td>\n",
       "      <td>1</td>\n",
       "      <td>Cumings, Mrs. John Bradley (Florence Briggs Th...</td>\n",
       "      <td>female</td>\n",
       "      <td>38.0</td>\n",
       "      <td>1</td>\n",
       "      <td>0</td>\n",
       "      <td>PC 17599</td>\n",
       "      <td>71.2833</td>\n",
       "      <td>C85</td>\n",
       "      <td>C</td>\n",
       "    </tr>\n",
       "  </tbody>\n",
       "</table>\n",
       "</div>"
      ],
      "text/plain": [
       "   PassengerId  Survived  Pclass  \\\n",
       "0            1         0       3   \n",
       "1            2         1       1   \n",
       "\n",
       "                                                Name     Sex   Age  SibSp  \\\n",
       "0                            Braund, Mr. Owen Harris    male  22.0      1   \n",
       "1  Cumings, Mrs. John Bradley (Florence Briggs Th...  female  38.0      1   \n",
       "\n",
       "   Parch     Ticket     Fare Cabin Embarked  \n",
       "0      0  A/5 21171   7.2500   NaN        S  \n",
       "1      0   PC 17599  71.2833   C85        C  "
      ]
     },
     "execution_count": 156,
     "metadata": {},
     "output_type": "execute_result"
    }
   ],
   "source": [
    "train_titanic.head(2)"
   ]
  },
  {
   "cell_type": "code",
   "execution_count": 157,
   "id": "4fa284b3",
   "metadata": {},
   "outputs": [
    {
     "name": "stdout",
     "output_type": "stream",
     "text": [
      "<class 'pandas.core.frame.DataFrame'>\n",
      "RangeIndex: 891 entries, 0 to 890\n",
      "Data columns (total 12 columns):\n",
      " #   Column       Non-Null Count  Dtype  \n",
      "---  ------       --------------  -----  \n",
      " 0   PassengerId  891 non-null    int64  \n",
      " 1   Survived     891 non-null    int64  \n",
      " 2   Pclass       891 non-null    int64  \n",
      " 3   Name         891 non-null    object \n",
      " 4   Sex          891 non-null    object \n",
      " 5   Age          714 non-null    float64\n",
      " 6   SibSp        891 non-null    int64  \n",
      " 7   Parch        891 non-null    int64  \n",
      " 8   Ticket       891 non-null    object \n",
      " 9   Fare         891 non-null    float64\n",
      " 10  Cabin        204 non-null    object \n",
      " 11  Embarked     889 non-null    object \n",
      "dtypes: float64(2), int64(5), object(5)\n",
      "memory usage: 83.7+ KB\n"
     ]
    }
   ],
   "source": [
    "train_titanic.info()"
   ]
  },
  {
   "cell_type": "code",
   "execution_count": 158,
   "id": "ee1070ae",
   "metadata": {},
   "outputs": [
    {
     "name": "stdout",
     "output_type": "stream",
     "text": [
      "<class 'pandas.core.frame.DataFrame'>\n",
      "RangeIndex: 418 entries, 0 to 417\n",
      "Data columns (total 11 columns):\n",
      " #   Column       Non-Null Count  Dtype  \n",
      "---  ------       --------------  -----  \n",
      " 0   PassengerId  418 non-null    int64  \n",
      " 1   Pclass       418 non-null    int64  \n",
      " 2   Name         418 non-null    object \n",
      " 3   Sex          418 non-null    object \n",
      " 4   Age          332 non-null    float64\n",
      " 5   SibSp        418 non-null    int64  \n",
      " 6   Parch        418 non-null    int64  \n",
      " 7   Ticket       418 non-null    object \n",
      " 8   Fare         417 non-null    float64\n",
      " 9   Cabin        91 non-null     object \n",
      " 10  Embarked     418 non-null    object \n",
      "dtypes: float64(2), int64(4), object(5)\n",
      "memory usage: 36.0+ KB\n"
     ]
    }
   ],
   "source": [
    "test_titanic.info()"
   ]
  },
  {
   "cell_type": "markdown",
   "id": "6f58fa5f",
   "metadata": {},
   "source": [
    "## Data description"
   ]
  },
  {
   "cell_type": "markdown",
   "id": "a93738b0",
   "metadata": {},
   "source": [
    "We have eleven variables:\n",
    "\n",
    "    - PassengerId: Primary key that are unique for each passenger\n",
    "    - Survived: feature that gives information about the status of a passenger after accident,\n",
    "    (0/1)-(Died/Survived)\n",
    "    - Pclass: The class that the passager was embarked\n",
    "    - Name: Name of the passenger\n",
    "    - Sex: gender of the passenger\n",
    "    - Age : Age of passenger\n",
    "    - SibSp: Number of siblings/spouse on board of titanic\n",
    "    - Parch: Number of parent/children on board of titanic\n",
    "    - Ticket: Ticket number\n",
    "    - Fare: Price of passenger's ticket \n",
    "    - Cabin: Cabin number\n",
    "    - Embarked: Port of embarkation"
   ]
  },
  {
   "cell_type": "code",
   "execution_count": 180,
   "id": "d4681c22",
   "metadata": {},
   "outputs": [],
   "source": [
    "train_titanic=pd.read_csv(\"train_processed.csv\")\n",
    "test_titanic=pd.read_csv(\"test_processed.csv\")"
   ]
  },
  {
   "cell_type": "markdown",
   "id": "db1dcb64",
   "metadata": {},
   "source": [
    "### Encodage des variables"
   ]
  },
  {
   "cell_type": "code",
   "execution_count": 181,
   "id": "fe3e3fa4",
   "metadata": {},
   "outputs": [],
   "source": [
    "#Train data\n",
    "\n",
    "train_titanic['Pclass']=train_titanic['Pclass'].astype('category')\n",
    "\n",
    "# Test data\n",
    "\n",
    "test_titanic['Pclass']=test_titanic['Pclass'].astype('category')"
   ]
  },
  {
   "cell_type": "code",
   "execution_count": 182,
   "id": "602ffb07",
   "metadata": {},
   "outputs": [],
   "source": [
    "\n",
    "train_titanic['Cabin_new']=train_titanic['Cabin_new'].apply(lambda x:str(x).strip()[0])\n",
    "\n",
    "test_titanic['Cabin_new']=test_titanic['Cabin_new'].apply(lambda x:str(x).strip()[0])"
   ]
  },
  {
   "cell_type": "code",
   "execution_count": 183,
   "id": "0f5195d8",
   "metadata": {},
   "outputs": [
    {
     "data": {
      "text/html": [
       "<div>\n",
       "<style scoped>\n",
       "    .dataframe tbody tr th:only-of-type {\n",
       "        vertical-align: middle;\n",
       "    }\n",
       "\n",
       "    .dataframe tbody tr th {\n",
       "        vertical-align: top;\n",
       "    }\n",
       "\n",
       "    .dataframe thead th {\n",
       "        text-align: right;\n",
       "    }\n",
       "</style>\n",
       "<table border=\"1\" class=\"dataframe\">\n",
       "  <thead>\n",
       "    <tr style=\"text-align: right;\">\n",
       "      <th></th>\n",
       "      <th>Survived</th>\n",
       "      <th>Pclass</th>\n",
       "      <th>Sex</th>\n",
       "      <th>Age</th>\n",
       "      <th>SibSp</th>\n",
       "      <th>Parch</th>\n",
       "      <th>Fare</th>\n",
       "      <th>Embarked</th>\n",
       "      <th>Cabin_new</th>\n",
       "    </tr>\n",
       "  </thead>\n",
       "  <tbody>\n",
       "    <tr>\n",
       "      <th>23</th>\n",
       "      <td>1</td>\n",
       "      <td>1</td>\n",
       "      <td>male</td>\n",
       "      <td>28.0</td>\n",
       "      <td>0</td>\n",
       "      <td>0</td>\n",
       "      <td>35</td>\n",
       "      <td>S</td>\n",
       "      <td>A</td>\n",
       "    </tr>\n",
       "    <tr>\n",
       "      <th>55</th>\n",
       "      <td>1</td>\n",
       "      <td>1</td>\n",
       "      <td>male</td>\n",
       "      <td>65.0</td>\n",
       "      <td>0</td>\n",
       "      <td>0</td>\n",
       "      <td>35</td>\n",
       "      <td>S</td>\n",
       "      <td>C</td>\n",
       "    </tr>\n",
       "    <tr>\n",
       "      <th>339</th>\n",
       "      <td>0</td>\n",
       "      <td>1</td>\n",
       "      <td>male</td>\n",
       "      <td>45.0</td>\n",
       "      <td>0</td>\n",
       "      <td>0</td>\n",
       "      <td>35</td>\n",
       "      <td>S</td>\n",
       "      <td>T</td>\n",
       "    </tr>\n",
       "    <tr>\n",
       "      <th>351</th>\n",
       "      <td>0</td>\n",
       "      <td>1</td>\n",
       "      <td>male</td>\n",
       "      <td>23.0</td>\n",
       "      <td>0</td>\n",
       "      <td>0</td>\n",
       "      <td>35</td>\n",
       "      <td>S</td>\n",
       "      <td>C</td>\n",
       "    </tr>\n",
       "    <tr>\n",
       "      <th>647</th>\n",
       "      <td>1</td>\n",
       "      <td>1</td>\n",
       "      <td>male</td>\n",
       "      <td>56.0</td>\n",
       "      <td>0</td>\n",
       "      <td>0</td>\n",
       "      <td>35</td>\n",
       "      <td>C</td>\n",
       "      <td>A</td>\n",
       "    </tr>\n",
       "  </tbody>\n",
       "</table>\n",
       "</div>"
      ],
      "text/plain": [
       "     Survived Pclass   Sex   Age  SibSp  Parch  Fare Embarked Cabin_new\n",
       "23          1      1  male  28.0      0      0    35        S         A\n",
       "55          1      1  male  65.0      0      0    35        S         C\n",
       "339         0      1  male  45.0      0      0    35        S         T\n",
       "351         0      1  male  23.0      0      0    35        S         C\n",
       "647         1      1  male  56.0      0      0    35        C         A"
      ]
     },
     "execution_count": 183,
     "metadata": {},
     "output_type": "execute_result"
    }
   ],
   "source": [
    "train_titanic[train_titanic[\"Fare\"]==35]"
   ]
  },
  {
   "cell_type": "code",
   "execution_count": 184,
   "id": "ac511b87",
   "metadata": {},
   "outputs": [],
   "source": [
    "# As there are no cabin with T in test set then to keep the same format in test and train set\n",
    "# We will replace T by C that is more similar to this view based on other attributes\n",
    "\n",
    "train_titanic['Cabin_new']=train_titanic['Cabin_new'].replace('T','C') "
   ]
  },
  {
   "cell_type": "code",
   "execution_count": 186,
   "id": "05190bfe",
   "metadata": {},
   "outputs": [
    {
     "data": {
      "text/plain": [
       "((891, 20), (418, 19))"
      ]
     },
     "execution_count": 186,
     "metadata": {},
     "output_type": "execute_result"
    }
   ],
   "source": [
    "train_titanic_numeric=pd.get_dummies(train_titanic)\n",
    "\n",
    "test_titanic_numeric=pd.get_dummies(test_titanic)\n",
    "\n",
    "train_titanic_numeric.shape,test_titanic_numeric.shape"
   ]
  },
  {
   "cell_type": "markdown",
   "id": "be0e2607",
   "metadata": {},
   "source": [
    "### Modelisation"
   ]
  },
  {
   "cell_type": "code",
   "execution_count": 187,
   "id": "20afc86f",
   "metadata": {},
   "outputs": [],
   "source": [
    "from sklearn.linear_model import LogisticRegression\n",
    "\n",
    "from sklearn.discriminant_analysis import LinearDiscriminantAnalysis\n",
    "\n",
    "from sklearn.neighbors import KNeighborsClassifier\n",
    "\n",
    "from sklearn.model_selection import train_test_split\n",
    "\n",
    "from sklearn.metrics import classification_report,confusion_matrix"
   ]
  },
  {
   "cell_type": "code",
   "execution_count": 188,
   "id": "ae3baaab",
   "metadata": {},
   "outputs": [],
   "source": [
    "lr_model=LogisticRegression(penalty=\"l2\",class_weight=\"balanced\")\n",
    "LDA=LinearDiscriminantAnalysis()\n",
    "KNN=KNeighborsClassifier(n_neighbors=2,n_jobs=-1)"
   ]
  },
  {
   "cell_type": "code",
   "execution_count": 189,
   "id": "baed2b72",
   "metadata": {},
   "outputs": [],
   "source": [
    "y=train_titanic_numeric[\"Survived\"]\n",
    "X=train_titanic_numeric.drop(columns=[\"Survived\"])"
   ]
  },
  {
   "cell_type": "code",
   "execution_count": 190,
   "id": "d69511a3",
   "metadata": {},
   "outputs": [],
   "source": [
    "X_train,X_valid,y_train,y_valid=train_test_split(X,y,test_size=.1)"
   ]
  },
  {
   "cell_type": "code",
   "execution_count": null,
   "id": "2dfbdb42",
   "metadata": {},
   "outputs": [],
   "source": [
    "def sample_impact(X,y,test_size_range=):\n",
    "\n",
    "    for test_size in test_size_range:\n",
    "\n",
    "        X_temp_train,X_temp_train,y_temp_train"
   ]
  },
  {
   "cell_type": "code",
   "execution_count": 203,
   "id": "b68117b7",
   "metadata": {},
   "outputs": [
    {
     "name": "stdout",
     "output_type": "stream",
     "text": [
      "Significant variables in modeling passenger survival:  Index(['Fare', 'Pclass_1', 'Pclass_3', 'Sex_female', 'Sex_male', 'Embarked_C',\n",
      "       'Embarked_S', 'Cabin_new_C', 'Cabin_new_E', 'Cabin_new_F'],\n",
      "      dtype='object')\n"
     ]
    }
   ],
   "source": [
    "from sklearn.feature_selection import chi2,SelectKBest,RFE,f_classif\n",
    "\n",
    "selector=SelectKBest(score_func=f_classif)\n",
    "\n",
    "# Entrainnement de la méthode\n",
    "selector_fitted=selector.fit(X_train,y_train)\n",
    "\n",
    "print(\"Significant variables in modeling passenger survival: \",X_train.columns[selector_fitted.get_support()])"
   ]
  }
 ],
 "metadata": {
  "kernelspec": {
   "display_name": "Python 3.9.14 64-bit ('3.9.14')",
   "language": "python",
   "name": "python3"
  },
  "language_info": {
   "codemirror_mode": {
    "name": "ipython",
    "version": 3
   },
   "file_extension": ".py",
   "mimetype": "text/x-python",
   "name": "python",
   "nbconvert_exporter": "python",
   "pygments_lexer": "ipython3",
   "version": "3.9.14"
  },
  "vscode": {
   "interpreter": {
    "hash": "9b51932b85eb61d61256980453aff19f4b3fb51a4f18cfee8210c742a88c8ee3"
   }
  }
 },
 "nbformat": 4,
 "nbformat_minor": 5
}
